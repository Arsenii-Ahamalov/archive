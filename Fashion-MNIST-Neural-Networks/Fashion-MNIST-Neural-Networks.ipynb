{
 "cells": [
  {
   "cell_type": "code",
   "execution_count": null,
   "metadata": {},
   "outputs": [],
   "source": [
    "import numpy as np \n",
    "import pandas as pd \n",
    "import matplotlib.pyplot as plt \n",
    "import torch\n",
    "import torch.nn as nn\n",
    "import torch.nn.functional as F\n",
    "data = pd.read_csv(\"train.csv\")"
   ]
  },
  {
   "cell_type": "code",
   "execution_count": 2,
   "metadata": {},
   "outputs": [],
   "source": [
    "from sklearn.model_selection import  train_test_split\n",
    "random_seed = 42\n",
    "Xtrain,Xrest,ytrain,yrest = train_test_split(data.drop(columns=[\"label\"]),data[\"label\"],test_size = 0.4,random_state = random_seed)\n",
    "Xtest,Xval,ytest,yval = train_test_split(Xrest,yrest,test_size=0.5,random_state=random_seed)"
   ]
  },
  {
   "cell_type": "code",
   "execution_count": 3,
   "metadata": {},
   "outputs": [
    {
     "data": {
      "text/html": [
       "<div>\n",
       "<style scoped>\n",
       "    .dataframe tbody tr th:only-of-type {\n",
       "        vertical-align: middle;\n",
       "    }\n",
       "\n",
       "    .dataframe tbody tr th {\n",
       "        vertical-align: top;\n",
       "    }\n",
       "\n",
       "    .dataframe thead th {\n",
       "        text-align: right;\n",
       "    }\n",
       "</style>\n",
       "<table border=\"1\" class=\"dataframe\">\n",
       "  <thead>\n",
       "    <tr style=\"text-align: right;\">\n",
       "      <th></th>\n",
       "      <th>pix1</th>\n",
       "      <th>pix2</th>\n",
       "      <th>pix3</th>\n",
       "      <th>pix4</th>\n",
       "      <th>pix5</th>\n",
       "      <th>pix6</th>\n",
       "      <th>pix7</th>\n",
       "      <th>pix8</th>\n",
       "      <th>pix9</th>\n",
       "      <th>pix10</th>\n",
       "      <th>...</th>\n",
       "      <th>pix1015</th>\n",
       "      <th>pix1016</th>\n",
       "      <th>pix1017</th>\n",
       "      <th>pix1018</th>\n",
       "      <th>pix1019</th>\n",
       "      <th>pix1020</th>\n",
       "      <th>pix1021</th>\n",
       "      <th>pix1022</th>\n",
       "      <th>pix1023</th>\n",
       "      <th>pix1024</th>\n",
       "    </tr>\n",
       "  </thead>\n",
       "  <tbody>\n",
       "    <tr>\n",
       "      <th>2262</th>\n",
       "      <td>2</td>\n",
       "      <td>2</td>\n",
       "      <td>2</td>\n",
       "      <td>2</td>\n",
       "      <td>2</td>\n",
       "      <td>2</td>\n",
       "      <td>2</td>\n",
       "      <td>2</td>\n",
       "      <td>2</td>\n",
       "      <td>2</td>\n",
       "      <td>...</td>\n",
       "      <td>2</td>\n",
       "      <td>2</td>\n",
       "      <td>2</td>\n",
       "      <td>2</td>\n",
       "      <td>2</td>\n",
       "      <td>2</td>\n",
       "      <td>2</td>\n",
       "      <td>2</td>\n",
       "      <td>2</td>\n",
       "      <td>2</td>\n",
       "    </tr>\n",
       "    <tr>\n",
       "      <th>25445</th>\n",
       "      <td>3</td>\n",
       "      <td>3</td>\n",
       "      <td>3</td>\n",
       "      <td>3</td>\n",
       "      <td>3</td>\n",
       "      <td>3</td>\n",
       "      <td>3</td>\n",
       "      <td>3</td>\n",
       "      <td>3</td>\n",
       "      <td>3</td>\n",
       "      <td>...</td>\n",
       "      <td>3</td>\n",
       "      <td>3</td>\n",
       "      <td>3</td>\n",
       "      <td>3</td>\n",
       "      <td>3</td>\n",
       "      <td>3</td>\n",
       "      <td>3</td>\n",
       "      <td>3</td>\n",
       "      <td>3</td>\n",
       "      <td>3</td>\n",
       "    </tr>\n",
       "    <tr>\n",
       "      <th>46043</th>\n",
       "      <td>0</td>\n",
       "      <td>0</td>\n",
       "      <td>0</td>\n",
       "      <td>0</td>\n",
       "      <td>0</td>\n",
       "      <td>0</td>\n",
       "      <td>0</td>\n",
       "      <td>0</td>\n",
       "      <td>0</td>\n",
       "      <td>0</td>\n",
       "      <td>...</td>\n",
       "      <td>0</td>\n",
       "      <td>0</td>\n",
       "      <td>0</td>\n",
       "      <td>0</td>\n",
       "      <td>0</td>\n",
       "      <td>0</td>\n",
       "      <td>0</td>\n",
       "      <td>0</td>\n",
       "      <td>0</td>\n",
       "      <td>0</td>\n",
       "    </tr>\n",
       "    <tr>\n",
       "      <th>12531</th>\n",
       "      <td>3</td>\n",
       "      <td>3</td>\n",
       "      <td>3</td>\n",
       "      <td>3</td>\n",
       "      <td>3</td>\n",
       "      <td>3</td>\n",
       "      <td>3</td>\n",
       "      <td>3</td>\n",
       "      <td>3</td>\n",
       "      <td>3</td>\n",
       "      <td>...</td>\n",
       "      <td>3</td>\n",
       "      <td>3</td>\n",
       "      <td>3</td>\n",
       "      <td>3</td>\n",
       "      <td>3</td>\n",
       "      <td>3</td>\n",
       "      <td>3</td>\n",
       "      <td>3</td>\n",
       "      <td>3</td>\n",
       "      <td>3</td>\n",
       "    </tr>\n",
       "    <tr>\n",
       "      <th>10152</th>\n",
       "      <td>0</td>\n",
       "      <td>0</td>\n",
       "      <td>0</td>\n",
       "      <td>0</td>\n",
       "      <td>0</td>\n",
       "      <td>0</td>\n",
       "      <td>0</td>\n",
       "      <td>0</td>\n",
       "      <td>0</td>\n",
       "      <td>0</td>\n",
       "      <td>...</td>\n",
       "      <td>0</td>\n",
       "      <td>0</td>\n",
       "      <td>0</td>\n",
       "      <td>0</td>\n",
       "      <td>0</td>\n",
       "      <td>0</td>\n",
       "      <td>0</td>\n",
       "      <td>0</td>\n",
       "      <td>0</td>\n",
       "      <td>0</td>\n",
       "    </tr>\n",
       "    <tr>\n",
       "      <th>...</th>\n",
       "      <td>...</td>\n",
       "      <td>...</td>\n",
       "      <td>...</td>\n",
       "      <td>...</td>\n",
       "      <td>...</td>\n",
       "      <td>...</td>\n",
       "      <td>...</td>\n",
       "      <td>...</td>\n",
       "      <td>...</td>\n",
       "      <td>...</td>\n",
       "      <td>...</td>\n",
       "      <td>...</td>\n",
       "      <td>...</td>\n",
       "      <td>...</td>\n",
       "      <td>...</td>\n",
       "      <td>...</td>\n",
       "      <td>...</td>\n",
       "      <td>...</td>\n",
       "      <td>...</td>\n",
       "      <td>...</td>\n",
       "      <td>...</td>\n",
       "    </tr>\n",
       "    <tr>\n",
       "      <th>11284</th>\n",
       "      <td>0</td>\n",
       "      <td>0</td>\n",
       "      <td>0</td>\n",
       "      <td>0</td>\n",
       "      <td>0</td>\n",
       "      <td>0</td>\n",
       "      <td>0</td>\n",
       "      <td>0</td>\n",
       "      <td>0</td>\n",
       "      <td>0</td>\n",
       "      <td>...</td>\n",
       "      <td>0</td>\n",
       "      <td>0</td>\n",
       "      <td>0</td>\n",
       "      <td>0</td>\n",
       "      <td>0</td>\n",
       "      <td>0</td>\n",
       "      <td>0</td>\n",
       "      <td>0</td>\n",
       "      <td>0</td>\n",
       "      <td>0</td>\n",
       "    </tr>\n",
       "    <tr>\n",
       "      <th>44732</th>\n",
       "      <td>0</td>\n",
       "      <td>0</td>\n",
       "      <td>0</td>\n",
       "      <td>0</td>\n",
       "      <td>0</td>\n",
       "      <td>0</td>\n",
       "      <td>0</td>\n",
       "      <td>0</td>\n",
       "      <td>0</td>\n",
       "      <td>0</td>\n",
       "      <td>...</td>\n",
       "      <td>0</td>\n",
       "      <td>0</td>\n",
       "      <td>0</td>\n",
       "      <td>0</td>\n",
       "      <td>0</td>\n",
       "      <td>0</td>\n",
       "      <td>0</td>\n",
       "      <td>0</td>\n",
       "      <td>0</td>\n",
       "      <td>0</td>\n",
       "    </tr>\n",
       "    <tr>\n",
       "      <th>38158</th>\n",
       "      <td>0</td>\n",
       "      <td>0</td>\n",
       "      <td>0</td>\n",
       "      <td>0</td>\n",
       "      <td>0</td>\n",
       "      <td>0</td>\n",
       "      <td>0</td>\n",
       "      <td>0</td>\n",
       "      <td>0</td>\n",
       "      <td>0</td>\n",
       "      <td>...</td>\n",
       "      <td>0</td>\n",
       "      <td>0</td>\n",
       "      <td>0</td>\n",
       "      <td>0</td>\n",
       "      <td>0</td>\n",
       "      <td>0</td>\n",
       "      <td>0</td>\n",
       "      <td>0</td>\n",
       "      <td>0</td>\n",
       "      <td>0</td>\n",
       "    </tr>\n",
       "    <tr>\n",
       "      <th>860</th>\n",
       "      <td>0</td>\n",
       "      <td>0</td>\n",
       "      <td>0</td>\n",
       "      <td>0</td>\n",
       "      <td>0</td>\n",
       "      <td>0</td>\n",
       "      <td>0</td>\n",
       "      <td>0</td>\n",
       "      <td>0</td>\n",
       "      <td>0</td>\n",
       "      <td>...</td>\n",
       "      <td>0</td>\n",
       "      <td>0</td>\n",
       "      <td>0</td>\n",
       "      <td>0</td>\n",
       "      <td>0</td>\n",
       "      <td>0</td>\n",
       "      <td>0</td>\n",
       "      <td>0</td>\n",
       "      <td>0</td>\n",
       "      <td>0</td>\n",
       "    </tr>\n",
       "    <tr>\n",
       "      <th>15795</th>\n",
       "      <td>0</td>\n",
       "      <td>0</td>\n",
       "      <td>0</td>\n",
       "      <td>0</td>\n",
       "      <td>0</td>\n",
       "      <td>0</td>\n",
       "      <td>0</td>\n",
       "      <td>0</td>\n",
       "      <td>0</td>\n",
       "      <td>0</td>\n",
       "      <td>...</td>\n",
       "      <td>0</td>\n",
       "      <td>0</td>\n",
       "      <td>0</td>\n",
       "      <td>0</td>\n",
       "      <td>0</td>\n",
       "      <td>0</td>\n",
       "      <td>0</td>\n",
       "      <td>0</td>\n",
       "      <td>0</td>\n",
       "      <td>0</td>\n",
       "    </tr>\n",
       "  </tbody>\n",
       "</table>\n",
       "<p>31500 rows × 1024 columns</p>\n",
       "</div>"
      ],
      "text/plain": [
       "       pix1  pix2  pix3  pix4  pix5  pix6  pix7  pix8  pix9  pix10  ...  \\\n",
       "2262      2     2     2     2     2     2     2     2     2      2  ...   \n",
       "25445     3     3     3     3     3     3     3     3     3      3  ...   \n",
       "46043     0     0     0     0     0     0     0     0     0      0  ...   \n",
       "12531     3     3     3     3     3     3     3     3     3      3  ...   \n",
       "10152     0     0     0     0     0     0     0     0     0      0  ...   \n",
       "...     ...   ...   ...   ...   ...   ...   ...   ...   ...    ...  ...   \n",
       "11284     0     0     0     0     0     0     0     0     0      0  ...   \n",
       "44732     0     0     0     0     0     0     0     0     0      0  ...   \n",
       "38158     0     0     0     0     0     0     0     0     0      0  ...   \n",
       "860       0     0     0     0     0     0     0     0     0      0  ...   \n",
       "15795     0     0     0     0     0     0     0     0     0      0  ...   \n",
       "\n",
       "       pix1015  pix1016  pix1017  pix1018  pix1019  pix1020  pix1021  pix1022  \\\n",
       "2262         2        2        2        2        2        2        2        2   \n",
       "25445        3        3        3        3        3        3        3        3   \n",
       "46043        0        0        0        0        0        0        0        0   \n",
       "12531        3        3        3        3        3        3        3        3   \n",
       "10152        0        0        0        0        0        0        0        0   \n",
       "...        ...      ...      ...      ...      ...      ...      ...      ...   \n",
       "11284        0        0        0        0        0        0        0        0   \n",
       "44732        0        0        0        0        0        0        0        0   \n",
       "38158        0        0        0        0        0        0        0        0   \n",
       "860          0        0        0        0        0        0        0        0   \n",
       "15795        0        0        0        0        0        0        0        0   \n",
       "\n",
       "       pix1023  pix1024  \n",
       "2262         2        2  \n",
       "25445        3        3  \n",
       "46043        0        0  \n",
       "12531        3        3  \n",
       "10152        0        0  \n",
       "...        ...      ...  \n",
       "11284        0        0  \n",
       "44732        0        0  \n",
       "38158        0        0  \n",
       "860          0        0  \n",
       "15795        0        0  \n",
       "\n",
       "[31500 rows x 1024 columns]"
      ]
     },
     "execution_count": 3,
     "metadata": {},
     "output_type": "execute_result"
    }
   ],
   "source": [
    "Xtrain"
   ]
  },
  {
   "cell_type": "code",
   "execution_count": 4,
   "metadata": {},
   "outputs": [
    {
     "name": "stdout",
     "output_type": "stream",
     "text": [
      "[3 5 0 8 1 4 7 9 6 2]\n",
      "10\n"
     ]
    }
   ],
   "source": [
    "print(ytrain.unique())\n",
    "print(ytrain.nunique())"
   ]
  },
  {
   "cell_type": "markdown",
   "metadata": {},
   "source": [
    "### 🔍 Initial Data Exploration\n",
    "\n",
    "Before building any models, we begin with a basic exploratory analysis to better understand the structure of the dataset. These visualizations will help us identify potential issues or patterns that may influence model design and performance.\n",
    "\n",
    "---\n",
    "\n",
    "#### 1. 📊 Class Distribution (Pie Chart)\n",
    "We visualize the distribution of labels to check for class imbalance. If certain classes dominate the dataset, the model may become biased toward predicting those more frequent classes. A balanced dataset is generally preferred for multi-class classification tasks.\n",
    "\n",
    "---\n",
    "\n",
    "#### 2. 🔥 Pixel Correlation Heatmap\n",
    "We create a heatmap showing how pixel values correlate with one another across all images. This can reveal spatial patterns in the images (e.g., edges, shapes) and help us understand if pixels behave independently or if there are structured dependencies.\n",
    "\n",
    "---\n",
    "\n",
    "#### 3. 🖼️ Random Samples from Each Class\n",
    "Displaying several random images from each class helps us intuitively understand what the model will be learning. This step allows us to check image quality, detect outliers or mislabeled data, and observe visual differences between classes.\n"
   ]
  },
  {
   "cell_type": "code",
   "execution_count": 5,
   "metadata": {},
   "outputs": [
    {
     "data": {
      "text/plain": [
       "Text(0.5, 1.0, 'Class Distribution')"
      ]
     },
     "execution_count": 5,
     "metadata": {},
     "output_type": "execute_result"
    },
    {
     "data": {
      "image/png": "[encoded data removed]",
      "text/plain": [
       "<Figure size 1600x800 with 1 Axes>"
      ]
     },
     "metadata": {},
     "output_type": "display_data"
    }
   ],
   "source": [
    "labels = ytrain.value_counts().index\n",
    "values = ytrain.value_counts().values\n",
    "figure = plt.figure(figsize=(16, 8))\n",
    "ax = figure.add_subplot()\n",
    "ax.pie(values, labels=labels, autopct='%1.1f%%', startangle=140)\n",
    "ax.set_title(\"Class Distribution\")"
   ]
  },
  {
   "cell_type": "markdown",
   "metadata": {},
   "source": [
    "### 🧮 Class Distribution Analysis\n",
    "\n",
    "The pie chart above shows the proportion of each class in the training dataset.  \n",
    "We observe that all 10 classes are fairly evenly represented, with each class making up approximately 9.8% to 10.2% of the data.\n",
    "\n",
    "This balanced distribution is beneficial for training classification models, as it helps avoid bias toward more frequent classes and ensures that the model receives a sufficient number of examples for each category.\n"
   ]
  },
  {
   "cell_type": "code",
   "execution_count": null,
   "metadata": {},
   "outputs": [],
   "source": [
    "import seaborn as sns\n",
    "subset = Xtrain.iloc[:1000,:]\n",
    "corr_matrix = subset.corr(numeric_only=True)\n",
    "figure = plt.figure(figsize=(16, 8))\n",
    "ax = figure.add_subplot()\n",
    "sns.heatmap(corr_matrix, annot=False, cmap='coolwarm', center=0)\n",
    "ax.set_title(\"Pixel Correlation Heatmap\")"
   ]
  },
  {
   "cell_type": "markdown",
   "metadata": {},
   "source": [
    "### 🔍 Pixel Correlation Heatmap Analysis\n",
    "\n",
    "The heatmap above visualizes the **pairwise correlation between pixel intensities** across all training samples.\n",
    "\n",
    "- **Diagonal dominance** is clearly visible, where each pixel is perfectly correlated with itself (correlation = 1).\n",
    "- We observe **strong positive correlations** (red areas) in bands near the diagonal. This suggests that **neighboring pixels** tend to activate together, which is expected due to the spatial continuity in images (e.g., edges, textures).\n",
    "- Some **weak negative correlations** (blue areas) indicate regions where intensity changes are complementary — when one pixel is bright, the neighboring one is more likely dark, possibly indicating contrast edges.\n",
    "- Most off-diagonal elements are close to zero, confirming that **only local pixel relationships are significantly correlated**.\n",
    "\n",
    "This supports the use of **convolutional layers**, as they are particularly effective in capturing and leveraging these **local dependencies** between nearby pixels.\n"
   ]
  },
  {
   "cell_type": "code",
   "execution_count": null,
   "metadata": {},
   "outputs": [
    {
     "data": {
      "image/png": "[encoded data removed]",
      "text/plain": [
       "<Figure size 500x2000 with 20 Axes>"
      ]
     },
     "metadata": {},
     "output_type": "display_data"
    }
   ],
   "source": [
    "lables = ytrain.unique()\n",
    "indexes1 = []\n",
    "indexes2 = []\n",
    "for label in lables:\n",
    "    index1 = ytrain[ytrain == label].index[0]\n",
    "    index2 = ytrain[ytrain == label].index[1]\n",
    "    indexes1.append(index1)\n",
    "    indexes2.append(index2)\n",
    "fig, ax = plt.subplots(len(lables), 2, figsize=(5, 2 * len(lables)))\n",
    "\n",
    "for i in range(len(lables)):\n",
    "    img1 = Xtrain.loc[indexes1[i]].values.reshape(32, 32)\n",
    "    img2 = Xtrain.loc[indexes2[i]].values.reshape(32, 32)\n",
    "    \n",
    "    ax[i, 0].imshow(img1, cmap=\"gray\")\n",
    "    ax[i, 0].set_title(f\"Class {lables[i]}\")\n",
    "    ax[i, 0].axis(\"off\")\n",
    "    \n",
    "    ax[i, 1].imshow(img2, cmap=\"gray\")\n",
    "    ax[i, 1].set_title(f\"Class {lables[i]}\")\n",
    "    ax[i, 1].axis(\"off\")\n",
    "\n",
    "plt.tight_layout()\n",
    "plt.show()\n"
   ]
  },
  {
   "cell_type": "markdown",
   "metadata": {},
   "source": [
    "### 🖼️ Sample Images from Each Class\n",
    "\n",
    "The figure above displays two example images for each of the 10 classes in the dataset. These grayscale images are reshaped to their original dimensions (32x32 pixels) and help us understand the variety and appearance of fashion items within each class.\n",
    "\n",
    "- **Purpose**: This visualization helps verify that images are properly loaded and reshaped. It also offers an early qualitative insight into how distinguishable the classes may be from one another.\n",
    "- **Observation**: Some classes are visually distinct (e.g., Class 0 vs Class 5), while others (e.g., Class 2 vs Class 6) may have overlapping features, which can pose a challenge for classification models.\n"
   ]
  },
  {
   "cell_type": "markdown",
   "metadata": {},
   "source": [
    "#### NeuralNetwork Class Overview\n",
    "\n",
    "This `NeuralNetwork` class is a reusable template for building and running a fully connected (MLP) model in PyTorch. You specify the number of layers, the size of each layer, and which activation functions to apply, and the class takes care of constructing the network, performing a forward pass, and making predictions.  \n",
    "\n",
    "- **Constructor (`__init__`)**  \n",
    "  Registers a sequence of `Linear` layers according to the provided sizes, storing them in a `ModuleList` so PyTorch tracks all parameters automatically.  \n",
    "\n",
    "- **Forward Method (`forward`)**  \n",
    "  Executes the main computation: each layer transforms its input via a linear mapping, then applies the chosen activation (`ReLU`, `sigmoid`, or `softmax`).  This produces either raw scores or a probability distribution (if `softmax` is used on the final layer).  \n",
    "\n",
    "- **Probability Prediction (`predict_proba`)**  \n",
    "  Converts raw input arrays into tensors, runs them through `forward` inside a `no_grad` block (disabling gradient computation to save time and memory), and returns the resulting class probabilities as a NumPy array.  \n",
    "\n",
    "- **Label Prediction (`predict`)**  \n",
    "  Calls `predict_proba` and then uses an `argmax` over the probability vectors to select the most likely class index for each input sample.  \n",
    "\n",
    "Overall, this class abstracts away the boilerplate of defining layers, activating them, and converting between PyTorch tensors and NumPy arrays for inference, letting you focus on experimenting with different architectures and hyperparameters.  \n"
   ]
  },
  {
   "cell_type": "code",
   "execution_count": null,
   "metadata": {},
   "outputs": [
    {
     "name": "stdout",
     "output_type": "stream",
     "text": [
      "[3 5 0 8 1 4 7 9 6 2]\n",
      "10\n"
     ]
    }
   ],
   "source": [
    "print(ytrain.unique())\n",
    "print(ytrain.nunique())\n",
    "\n",
    "\n",
    "class NeuralNetwork(nn.Module):\n",
    "    def __init__(self, layers_count, layers, activation_func,dropout_rates = None):\n",
    "        super().__init__()\n",
    "        self.layers = nn.ModuleList()  \n",
    "        self.activation_func = activation_func\n",
    "        self.layers_count = layers_count\n",
    "        if dropout_rates is None:\n",
    "            dropout_rates = [0.0] * layers_count\n",
    "        self.dropout_layers = nn.ModuleList()\n",
    "        for i in range(layers_count):\n",
    "            input_dim = 1024 if i == 0 else layers[i-1]\n",
    "            output_dim = layers[i]\n",
    "            self.layers.append(nn.Linear(input_dim, output_dim))\n",
    "            if i < layers_count - 1:\n",
    "                self.dropout_layers.append(nn.Dropout(p=dropout_rates[i]))\n",
    "            \n",
    "    def forward(self, x):\n",
    "        for i in range(self.layers_count):\n",
    "            x = self.layers[i](x)\n",
    "            if self.activation_func[i] == \"relu\":\n",
    "                x = F.relu(x)\n",
    "            elif self.activation_func[i] == \"sigmoid\":\n",
    "                x = F.sigmoid(x)\n",
    "            elif self.activation_func[i] == \"softmax\":\n",
    "                x = F.softmax(x, dim=1)\n",
    "            if i < self.layers_count - 1:\n",
    "                x = self.dropout_layers[i](x)\n",
    "        return x\n",
    "        \n",
    "    def predict_proba(self, X):\n",
    "        self.eval()\n",
    "        with torch.no_grad():\n",
    "            if hasattr(X, 'values'):\n",
    "                dataX = torch.tensor(X.values, dtype=torch.float32)\n",
    "            else:\n",
    "                dataX = torch.tensor(X, dtype=torch.float32)\n",
    "            return self.forward(dataX).detach().numpy()\n",
    "        \n",
    "    def predict(self, x):\n",
    "        probs = self.predict_proba(x)\n",
    "        return np.argmax(probs, axis=1) "
   ]
  },
  {
   "cell_type": "markdown",
   "metadata": {},
   "source": [
    "### 🗺️ Our Structured Hyperparameter Search Plan\n",
    "\n",
    "We will narrow down the best MLP configuration using a multi-stage funnel:\n",
    "\n",
    "1. **Topology Search**  \n",
    "   - Try 5–7 different hidden-layer layouts (with ReLU activations and raw pixel inputs) for a quick baseline.\n",
    "\n",
    "2. **Data Preprocessing**  \n",
    "   - For the top 3 architectures, compare performance on:  \n",
    "     - Raw pixels  \n",
    "     - Standardized inputs (StandardScaler)  \n",
    "     - Normalized inputs (MinMaxScaler)\n",
    "\n",
    "3. **Optimizer Sweep**  \n",
    "   - For each (architecture × preprocessing) pair, test optimizers:  \n",
    "     - Adam (lr=1e-3)  \n",
    "     - SGD with momentum (lr=1e-2, momentum=0.9)  \n",
    "     - RMSProp (lr=1e-3)\n",
    "\n",
    "4. **Regularization Tuning**  \n",
    "   - On the best 2–3 candidates, add or vary:  \n",
    "     - Dropout rates (p = 0.1, 0.3)  \n",
    "     - L2 weight decay (1e-4, 1e-5)\n",
    "\n",
    "5. **Final Selection & Full Training**  \n",
    "   - Fully train the top configuration(s) with early stopping and report test accuracy.\n",
    "\n",
    "#### Candidate Topologies to Try\n",
    "\n",
    "1. **[128]**                 – single hidden layer, 128 units  \n",
    "2. **[256]**                 – single hidden layer, 256 units  \n",
    "3. **[256, 128]**            – two layers: 256 → 128  \n",
    "4. **[512, 256]**            – two layers: 512 → 256  \n",
    "5. **[512, 256, 128]**       – three layers: 512 → 256 → 128  \n",
    "6. **[1024, 512, 256]**      – three layers: 1024 → 512 → 256  \n",
    "7. **[512, 256, 128, 64]**   – four layers: 512 → 256 → 128 → 64  \n",
    "\n",
    "These layouts span from lightweight to high-capacity models, giving us a spectrum to identify the “sweet spot” for our dataset and resources.\n"
   ]
  },
  {
   "cell_type": "code",
   "execution_count": 3,
   "metadata": {},
   "outputs": [],
   "source": [
    "from sklearn.metrics import accuracy_score\n",
    "\n",
    "def train(X, y, X_val, y_val, model, epochs, loss_fn, optimizer, batch_size=1000, patience=10, reg_type=None, reg_l=0, print_res=True):\n",
    "    if hasattr(X, 'values'):\n",
    "        dataX = torch.tensor(X.values, dtype=torch.float32)\n",
    "        dataX_val = torch.tensor(X_val.values, dtype=torch.float32)\n",
    "    else:\n",
    "        dataX = torch.tensor(X, dtype=torch.float32)\n",
    "        dataX_val = torch.tensor(X_val, dtype=torch.float32)\n",
    "        \n",
    "    if hasattr(y, 'values'):\n",
    "        datay = torch.tensor(y.values, dtype=torch.long)\n",
    "        datay_val = torch.tensor(y_val.values, dtype=torch.long)\n",
    "    else:\n",
    "        datay = torch.tensor(y, dtype=torch.long)\n",
    "        datay_val = torch.tensor(y_val, dtype=torch.long)\n",
    "\n",
    "    dataset_size = dataX.size(0)\n",
    "    train_losses = []\n",
    "    val_accuracies = []\n",
    "    best_val_accuracy = 0\n",
    "    patience_counter = 0\n",
    "    best_model_state = model.state_dict()\n",
    "\n",
    "    for epoch in range(epochs):\n",
    "        model.train()\n",
    "        perm = torch.randperm(dataset_size)\n",
    "        epoch_loss = 0.0\n",
    "\n",
    "        for start in range(0, dataset_size, batch_size):\n",
    "            indices = perm[start:start + batch_size]\n",
    "            batch_X = dataX[indices]\n",
    "            batch_y = datay[indices]\n",
    "\n",
    "            optimizer.zero_grad()\n",
    "            pred = model(batch_X)\n",
    "            loss = loss_fn(pred, batch_y)\n",
    "            \n",
    "            if reg_type == \"L1\":\n",
    "                l_reg = torch.tensor(0.)\n",
    "                for param in model.parameters():\n",
    "                    l_reg += torch.linalg.vector_norm(param.flatten(), 1)\n",
    "                loss += l_reg * reg_l\n",
    "            elif reg_type == \"L2\":\n",
    "                l_reg = torch.tensor(0.)\n",
    "                for param in model.parameters():\n",
    "                    l_reg += torch.linalg.vector_norm(param.flatten(), 2)\n",
    "                loss += l_reg * reg_l\n",
    "                \n",
    "            loss.backward()\n",
    "            optimizer.step()\n",
    "\n",
    "            epoch_loss += loss.item() * batch_X.size(0)\n",
    "\n",
    "        epoch_loss /= dataset_size\n",
    "        train_losses.append(epoch_loss)\n",
    "\n",
    "        model.eval()\n",
    "        with torch.no_grad():\n",
    "            val_pred = model(dataX_val)\n",
    "            val_pred_labels = torch.argmax(val_pred, dim=1)\n",
    "            val_accuracy = (val_pred_labels == datay_val).float().mean().item()\n",
    "            val_accuracies.append(val_accuracy)\n",
    "\n",
    "        if print_res and ((epoch + 1) % 10 == 0):\n",
    "            print(f\"Epoch {epoch + 1}/{epochs} - Train Loss: {epoch_loss:.4f} - Val Accuracy: {val_accuracy:.4f}\")\n",
    "\n",
    "        if val_accuracy > best_val_accuracy:\n",
    "            best_val_accuracy = val_accuracy\n",
    "            best_model_state = model.state_dict()\n",
    "            patience_counter = 0\n",
    "        else:\n",
    "            patience_counter += 1\n",
    "            if patience_counter >= patience:\n",
    "                print(f\"Early stopping triggered at epoch {epoch + 1}\")\n",
    "                print(f\"Best validation accuracy: {best_val_accuracy:.4f}\")\n",
    "                break\n",
    "\n",
    "    model.load_state_dict(best_model_state)\n",
    "    return train_losses, val_accuracies"
   ]
  },
  {
   "cell_type": "code",
   "execution_count": null,
   "metadata": {},
   "outputs": [
    {
     "name": "stdout",
     "output_type": "stream",
     "text": [
      "Epoch 10/30 - Loss: 2.0904\n",
      "Epoch 20/30 - Loss: 2.0848\n",
      "Epoch 30/30 - Loss: 2.0857\n",
      "Acuuracy rate =  0.37933333333333336\n"
     ]
    }
   ],
   "source": [
    "nn1 = NeuralNetwork(2,[128,10],[\"relu\",\"softmax\"])\n",
    "optimizer = torch.optim.Adam(nn1.parameters(), lr=0.001)\n",
    "train(Xtrain, ytrain, Xval, yval, nn1, 30, nn.CrossEntropyLoss(),optimizer)\n",
    "result = nn1.predict(Xval)\n",
    "print(\"Acuuracy rate = \",accuracy_score(yval,result))"
   ]
  },
  {
   "cell_type": "code",
   "execution_count": null,
   "metadata": {},
   "outputs": [
    {
     "name": "stdout",
     "output_type": "stream",
     "text": [
      "Epoch 10/30 - Loss: 2.1451\n",
      "Epoch 20/30 - Loss: 2.1308\n",
      "Epoch 30/30 - Loss: 2.0541\n",
      "Acuuracy rate =  0.40876190476190477\n"
     ]
    }
   ],
   "source": [
    "nn2 = NeuralNetwork(2,[256,10],[\"relu\",\"softmax\"])\n",
    "optimizer = torch.optim.Adam(nn2.parameters(), lr=0.001)\n",
    "train(Xtrain, ytrain, Xval, yval, nn2, 30, nn.CrossEntropyLoss(),optimizer)\n",
    "result = nn2.predict(Xval)\n",
    "print(\"Acuuracy rate = \",accuracy_score(yval,result))"
   ]
  },
  {
   "cell_type": "code",
   "execution_count": null,
   "metadata": {},
   "outputs": [
    {
     "name": "stdout",
     "output_type": "stream",
     "text": [
      "Epoch 10/30 - Loss: 2.1670\n",
      "Epoch 20/30 - Loss: 2.0243\n",
      "Epoch 30/30 - Loss: 2.0081\n",
      "Acuuracy rate =  0.4613333333333333\n"
     ]
    }
   ],
   "source": [
    "nn3 = NeuralNetwork(3,[256,128,10],[\"relu\",\"relu\",\"softmax\"])\n",
    "optimizer = torch.optim.Adam(nn3.parameters(), lr=0.001)\n",
    "train(Xtrain, ytrain, Xval, yval, nn3, 30, nn.CrossEntropyLoss(),optimizer)\n",
    "result = nn3.predict(Xval)\n",
    "print(\"Acuuracy rate = \",accuracy_score(yval,result))"
   ]
  },
  {
   "cell_type": "code",
   "execution_count": null,
   "metadata": {},
   "outputs": [
    {
     "name": "stdout",
     "output_type": "stream",
     "text": [
      "Epoch 10/30 - Loss: 2.1214\n",
      "Epoch 20/30 - Loss: 2.0988\n",
      "Epoch 30/30 - Loss: 2.0981\n",
      "Acuuracy rate =  0.37133333333333335\n"
     ]
    }
   ],
   "source": [
    "nn4 = NeuralNetwork(3,[512,256,10],[\"relu\",\"relu\",\"softmax\"])\n",
    "optimizer = torch.optim.Adam(nn4.parameters(), lr=0.001)\n",
    "train(Xtrain, ytrain, Xval, yval, nn4, 30, nn.CrossEntropyLoss(),optimizer)\n",
    "result = nn4.predict(Xval)\n",
    "print(\"Acuuracy rate = \",accuracy_score(yval,result))"
   ]
  },
  {
   "cell_type": "code",
   "execution_count": null,
   "metadata": {},
   "outputs": [
    {
     "name": "stdout",
     "output_type": "stream",
     "text": [
      "Epoch 10/30 - Loss: 2.1793\n",
      "Epoch 20/30 - Loss: 2.0115\n",
      "Epoch 30/30 - Loss: 2.0058\n",
      "Acuuracy rate =  0.4643809523809524\n"
     ]
    }
   ],
   "source": [
    "nn5 = NeuralNetwork(4,[512,256,128,10],[\"relu\",\"relu\",\"relu\",\"softmax\"])\n",
    "optimizer = torch.optim.Adam(nn5.parameters(), lr=0.001)\n",
    "train(Xtrain, ytrain, Xval, yval, nn5, 30, nn.CrossEntropyLoss(),optimizer)\n",
    "result = nn5.predict(Xval)\n",
    "print(\"Acuuracy rate = \",accuracy_score(yval,result))"
   ]
  },
  {
   "cell_type": "code",
   "execution_count": null,
   "metadata": {},
   "outputs": [
    {
     "name": "stdout",
     "output_type": "stream",
     "text": [
      "Epoch 10/30 - Loss: 2.2244\n",
      "Epoch 20/30 - Loss: 2.2738\n",
      "Epoch 30/30 - Loss: 2.2938\n",
      "Acuuracy rate =  0.16752380952380952\n"
     ]
    }
   ],
   "source": [
    "nn6 = NeuralNetwork(4,[1024,512,256,10],[\"relu\",\"relu\",\"relu\",\"softmax\"])\n",
    "optimizer = torch.optim.Adam(nn6.parameters(), lr=0.001)\n",
    "train(Xtrain, ytrain, Xval, yval, nn6, 30, nn.CrossEntropyLoss(),optimizer)\n",
    "result = nn6.predict(Xval)\n",
    "print(\"Acuuracy rate = \",accuracy_score(yval,result))"
   ]
  },
  {
   "cell_type": "code",
   "execution_count": null,
   "metadata": {},
   "outputs": [
    {
     "name": "stdout",
     "output_type": "stream",
     "text": [
      "Epoch 10/30 - Loss: 1.7921\n",
      "Epoch 20/30 - Loss: 1.7694\n",
      "Epoch 30/30 - Loss: 1.7572\n",
      "Acuuracy rate =  0.6896190476190476\n"
     ]
    }
   ],
   "source": [
    "nn7 = NeuralNetwork(5,[512,256,128,64,10],[\"relu\",\"relu\",\"relu\",\"relu\",\"softmax\"])\n",
    "optimizer = torch.optim.Adam(nn7.parameters(), lr=0.001)\n",
    "train(Xtrain, ytrain, Xval, yval, nn7, 30, nn.CrossEntropyLoss(),optimizer)\n",
    "result = nn7.predict(Xval)\n",
    "print(\"Acuuracy rate = \",accuracy_score(yval,result))"
   ]
  },
  {
   "cell_type": "markdown",
   "metadata": {},
   "source": [
    "#### Model Selection and Next Steps\n",
    "\n",
    "We have evaluated **7 different MLP topologies**. Based on validation performance, we will now focus on three candidate networks:\n",
    "\n",
    "- **nn3** (`[256, 128]`)  \n",
    "- **nn5** (`[512, 256,128]`)  \n",
    "- **nn7** (`[512, 256, 128, 64]`)\n",
    "\n",
    "Next, we will test each of these models with three input preprocessing strategies:\n",
    "\n",
    "1. **Raw pixel values**  \n",
    "2. **Standardized data** (using `StandardScaler`)  \n",
    "3. **Normalized data** (using `MinMaxScaler`)  \n",
    "\n",
    "This experiment will reveal which combination of architecture and data scaling delivers the best accuracy.\n"
   ]
  },
  {
   "cell_type": "code",
   "execution_count": null,
   "metadata": {},
   "outputs": [],
   "source": [
    "from  sklearn.preprocessing import StandardScaler,MinMaxScaler\n",
    "normalizer = MinMaxScaler()\n",
    "standartizer = StandardScaler()\n",
    "Xtrain_normal = normalizer.fit_transform(Xtrain)\n",
    "Xval_normal = normalizer.transform(Xval)\n",
    "Xtest_normal = normalizer.transform(Xtest)\n",
    "Xtrain_standart = standartizer.fit_transform(Xtrain)\n",
    "Xval_standart = standartizer.transform(Xval)\n",
    "Xtest_standart = standartizer.transform(Xtest)"
   ]
  },
  {
   "cell_type": "code",
   "execution_count": null,
   "metadata": {},
   "outputs": [
    {
     "name": "stdout",
     "output_type": "stream",
     "text": [
      "Epoch 10/40 - Loss: 1.6980\n",
      "Epoch 20/40 - Loss: 1.6495\n",
      "Epoch 30/40 - Loss: 1.6285\n",
      "Epoch 40/40 - Loss: 1.6134\n",
      "Acuuracy rate =  0.8257142857142857\n"
     ]
    }
   ],
   "source": [
    "nn3 = NeuralNetwork(3,[256,128,10],[\"relu\",\"relu\",\"softmax\"])\n",
    "optimizer = torch.optim.Adam(nn3.parameters(), lr=0.001)\n",
    "train(Xtrain_normal, ytrain, Xval_normal, yval, nn3, 40, nn.CrossEntropyLoss(),optimizer)\n",
    "result = nn3.predict(Xval_normal)\n",
    "print(\"Acuuracy rate = \",accuracy_score(yval,result))"
   ]
  },
  {
   "cell_type": "code",
   "execution_count": null,
   "metadata": {},
   "outputs": [
    {
     "name": "stdout",
     "output_type": "stream",
     "text": [
      "Epoch 10/40 - Loss: 1.6343\n",
      "Epoch 20/40 - Loss: 1.6015\n",
      "Epoch 30/40 - Loss: 1.5820\n",
      "Epoch 40/40 - Loss: 1.5674\n",
      "Acuuracy rate =  0.8333333333333334\n"
     ]
    }
   ],
   "source": [
    "nn3 = NeuralNetwork(3,[256,128,10],[\"relu\",\"relu\",\"softmax\"])\n",
    "optimizer = torch.optim.Adam(nn3.parameters(), lr=0.001)\n",
    "train(Xtrain_standart, ytrain, Xval_standart, yval, nn3, 40, nn.CrossEntropyLoss(),optimizer)\n",
    "result = nn3.predict(Xval_standart)\n",
    "print(\"Acuuracy rate = \",accuracy_score(yval,result))"
   ]
  },
  {
   "cell_type": "code",
   "execution_count": null,
   "metadata": {},
   "outputs": [
    {
     "name": "stdout",
     "output_type": "stream",
     "text": [
      "Epoch 10/40 - Loss: 1.6934\n",
      "Epoch 20/40 - Loss: 1.6379\n",
      "Epoch 30/40 - Loss: 1.6187\n",
      "Epoch 40/40 - Loss: 1.6029\n",
      "Acuuracy rate =  0.8295238095238096\n"
     ]
    }
   ],
   "source": [
    "nn5 = NeuralNetwork(4,[512,256,128,10],[\"relu\",\"relu\",\"relu\",\"softmax\"])\n",
    "optimizer = torch.optim.Adam(nn5.parameters(), lr=0.001)\n",
    "train(Xtrain_normal, ytrain, Xval_normal, yval, nn5, 40, nn.CrossEntropyLoss(),optimizer)\n",
    "result = nn5.predict(Xval_normal)\n",
    "print(\"Acuuracy rate = \",accuracy_score(yval,result))"
   ]
  },
  {
   "cell_type": "code",
   "execution_count": null,
   "metadata": {},
   "outputs": [
    {
     "name": "stdout",
     "output_type": "stream",
     "text": [
      "Epoch 10/40 - Loss: 1.6448\n",
      "Epoch 20/40 - Loss: 1.6121\n",
      "Epoch 30/40 - Loss: 1.5957\n",
      "Epoch 40/40 - Loss: 1.5806\n",
      "Acuuracy rate =  0.832\n"
     ]
    }
   ],
   "source": [
    "nn5 = NeuralNetwork(4,[512,256,128,10],[\"relu\",\"relu\",\"relu\",\"softmax\"])\n",
    "optimizer = torch.optim.Adam(nn5.parameters(), lr=0.001)\n",
    "train(Xtrain_standart, ytrain, Xval_standart, yval, nn5, 40, nn.CrossEntropyLoss(),optimizer)\n",
    "result = nn5.predict(Xval_standart)\n",
    "print(\"Acuuracy rate = \",accuracy_score(yval,result))"
   ]
  },
  {
   "cell_type": "code",
   "execution_count": null,
   "metadata": {},
   "outputs": [
    {
     "name": "stdout",
     "output_type": "stream",
     "text": [
      "Epoch 10/40 - Loss: 1.6830\n",
      "Epoch 20/40 - Loss: 1.6562\n",
      "Epoch 30/40 - Loss: 1.6314\n",
      "Epoch 40/40 - Loss: 1.6231\n",
      "Acuuracy rate =  0.8142857142857143\n"
     ]
    }
   ],
   "source": [
    "nn7 = NeuralNetwork(5,[512,256,128,64,10],[\"relu\",\"relu\",\"relu\",\"relu\",\"softmax\"])\n",
    "optimizer = torch.optim.Adam(nn7.parameters(), lr=0.001)\n",
    "train(Xtrain_normal, ytrain, Xval_normal, yval, nn7, 40, nn.CrossEntropyLoss(),optimizer)\n",
    "result = nn7.predict(Xval_normal)\n",
    "print(\"Acuuracy rate = \",accuracy_score(yval,result))"
   ]
  },
  {
   "cell_type": "code",
   "execution_count": null,
   "metadata": {},
   "outputs": [
    {
     "name": "stdout",
     "output_type": "stream",
     "text": [
      "Epoch 10/40 - Loss: 1.6521\n",
      "Epoch 20/40 - Loss: 1.6165\n",
      "Epoch 30/40 - Loss: 1.6000\n",
      "Epoch 40/40 - Loss: 1.5891\n",
      "Acuuracy rate =  0.8306666666666667\n"
     ]
    }
   ],
   "source": [
    "nn7 = NeuralNetwork(5,[512,256,128,64,10],[\"relu\",\"relu\",\"relu\",\"relu\",\"softmax\"])\n",
    "optimizer = torch.optim.Adam(nn7.parameters(), lr=0.001)\n",
    "train(Xtrain_standart, ytrain, Xval_standart, yval, nn7, 40, nn.CrossEntropyLoss(),optimizer)\n",
    "result = nn7.predict(Xval_standart)\n",
    "print(\"Acuuracy rate = \",accuracy_score(yval,result))"
   ]
  },
  {
   "cell_type": "markdown",
   "metadata": {},
   "source": [
    "#### 🚀 Final Model & Preprocessing Choice\n",
    "\n",
    "After evaluating all 7 MLP topologies on raw, normalized and standardized inputs, we observe:\n",
    "\n",
    "- **Topologies selected:**  \n",
    "  – **NN3** (`[256, 128]`), **NN5** (`[512, 256, 128]`) and **NN7** (`[512, 256, 128, 64]`)  \n",
    "- **Preprocessing:**  \n",
    "  – **Standardization** consistently outperformed **normalization** and **raw pixel inputs** across all three architectures.  \n",
    "  – Compared to raw data, standardizing features yielded a substantial increase in validation accuracy (often several percentage points).  \n",
    "  – Normalization provided only marginal gains over raw data, and never matched the boost from standardization.\n",
    "\n",
    "Going forward, we will train and fine-tune NN3, NN5 and NN7 using **standardized** inputs to maximize performance.  \n"
   ]
  },
  {
   "cell_type": "code",
   "execution_count": null,
   "metadata": {},
   "outputs": [
    {
     "name": "stdout",
     "output_type": "stream",
     "text": [
      "Epoch 10/40 - Loss: 2.3017\n",
      "Epoch 20/40 - Loss: 2.3007\n",
      "Epoch 30/40 - Loss: 2.2997\n",
      "Epoch 40/40 - Loss: 2.2986\n",
      "Acuuracy rate =  0.18980952380952382\n"
     ]
    }
   ],
   "source": [
    "nn3 = NeuralNetwork(3,[256,128,10],[\"relu\",\"relu\",\"softmax\"])\n",
    "optimizer = torch.optim.SGD(nn3.parameters(), lr=0.001)\n",
    "train(Xtrain_standart, ytrain, Xval_standart, yval, nn3, 40, nn.CrossEntropyLoss(),optimizer)\n",
    "result = nn3.predict(Xval_standart)\n",
    "print(\"Acuuracy rate = \",accuracy_score(yval,result))"
   ]
  },
  {
   "cell_type": "code",
   "execution_count": null,
   "metadata": {},
   "outputs": [
    {
     "name": "stdout",
     "output_type": "stream",
     "text": [
      "Epoch 10/40 - Loss: 1.7316\n",
      "Epoch 20/40 - Loss: 1.7080\n",
      "Epoch 30/40 - Loss: 1.6929\n",
      "Epoch 40/40 - Loss: 1.6799\n",
      "Acuuracy rate =  0.788\n"
     ]
    }
   ],
   "source": [
    "nn3 = NeuralNetwork(3,[256,128,10],[\"relu\",\"relu\",\"softmax\"])\n",
    "optimizer = torch.optim.Adagrad(nn3.parameters(), lr=0.001)\n",
    "train(Xtrain_standart, ytrain, Xval_standart, yval, nn3, 40, nn.CrossEntropyLoss(),optimizer)\n",
    "result = nn3.predict(Xval_standart)\n",
    "print(\"Acuuracy rate = \",accuracy_score(yval,result))"
   ]
  },
  {
   "cell_type": "code",
   "execution_count": null,
   "metadata": {},
   "outputs": [
    {
     "name": "stdout",
     "output_type": "stream",
     "text": [
      "Epoch 10/40 - Loss: 1.6384\n",
      "Epoch 20/40 - Loss: 1.6072\n",
      "Epoch 30/40 - Loss: 1.5907\n",
      "Epoch 40/40 - Loss: 1.5816\n",
      "Acuuracy rate =  0.8332380952380952\n"
     ]
    }
   ],
   "source": [
    "nn3 = NeuralNetwork(3,[256,128,10],[\"relu\",\"relu\",\"softmax\"])\n",
    "optimizer = torch.optim.RMSprop(nn3.parameters(), lr=0.001)\n",
    "train(Xtrain_standart, ytrain, Xval_standart, yval, nn3, 40, nn.CrossEntropyLoss(),optimizer)\n",
    "result = nn3.predict(Xval_standart)\n",
    "print(\"Acuuracy rate = \",accuracy_score(yval,result))"
   ]
  },
  {
   "cell_type": "code",
   "execution_count": null,
   "metadata": {},
   "outputs": [
    {
     "name": "stdout",
     "output_type": "stream",
     "text": [
      "Epoch 10/40 - Loss: 2.3014\n",
      "Epoch 20/40 - Loss: 2.3005\n",
      "Epoch 30/40 - Loss: 2.2996\n",
      "Epoch 40/40 - Loss: 2.2987\n",
      "Acuuracy rate =  0.19485714285714287\n"
     ]
    }
   ],
   "source": [
    "nn3 = NeuralNetwork(3,[256,128,10],[\"relu\",\"relu\",\"softmax\"])\n",
    "optimizer = torch.optim.Adadelta(nn3.parameters(), lr=0.001)\n",
    "train(Xtrain_standart, ytrain, Xval_standart, yval, nn3, 40, nn.CrossEntropyLoss(),optimizer)\n",
    "result = nn3.predict(Xval_standart)\n",
    "print(\"Acuuracy rate = \",accuracy_score(yval,result))"
   ]
  },
  {
   "cell_type": "code",
   "execution_count": null,
   "metadata": {},
   "outputs": [
    {
     "name": "stdout",
     "output_type": "stream",
     "text": [
      "Epoch 10/40 - Loss: 2.3023\n",
      "Epoch 20/40 - Loss: 2.3021\n",
      "Epoch 30/40 - Loss: 2.3020\n",
      "Epoch 40/40 - Loss: 2.3018\n",
      "Acuuracy rate =  0.186\n"
     ]
    }
   ],
   "source": [
    "nn5 = NeuralNetwork(4,[512,256,128,10],[\"relu\",\"relu\",\"relu\",\"softmax\"])\n",
    "optimizer = torch.optim.SGD(nn5.parameters(), lr=0.001)\n",
    "train(Xtrain_standart, ytrain, Xval_standart, yval, nn5, 40, nn.CrossEntropyLoss(),optimizer)\n",
    "result = nn5.predict(Xval_standart)\n",
    "print(\"Acuuracy rate = \",accuracy_score(yval,result))"
   ]
  },
  {
   "cell_type": "code",
   "execution_count": null,
   "metadata": {},
   "outputs": [
    {
     "name": "stdout",
     "output_type": "stream",
     "text": [
      "Epoch 10/40 - Loss: 1.7100\n",
      "Epoch 20/40 - Loss: 1.6893\n",
      "Epoch 30/40 - Loss: 1.6782\n",
      "Epoch 40/40 - Loss: 1.6707\n",
      "Acuuracy rate =  0.7791428571428571\n"
     ]
    }
   ],
   "source": [
    "nn5 = NeuralNetwork(4,[512,256,128,10],[\"relu\",\"relu\",\"relu\",\"softmax\"])\n",
    "optimizer = torch.optim.Adagrad(nn5.parameters(), lr=0.001)\n",
    "train(Xtrain_standart, ytrain, Xval_standart, yval, nn5, 40, nn.CrossEntropyLoss(),optimizer)\n",
    "result = nn5.predict(Xval_standart)\n",
    "print(\"Acuuracy rate = \",accuracy_score(yval,result))"
   ]
  },
  {
   "cell_type": "code",
   "execution_count": null,
   "metadata": {},
   "outputs": [
    {
     "name": "stdout",
     "output_type": "stream",
     "text": [
      "Epoch 10/40 - Loss: 1.8549\n",
      "Epoch 20/40 - Loss: 1.7700\n",
      "Epoch 30/40 - Loss: 1.7551\n",
      "Epoch 40/40 - Loss: 1.7444\n",
      "Acuuracy rate =  0.6866666666666666\n"
     ]
    }
   ],
   "source": [
    "nn5 = NeuralNetwork(4,[512,256,128,10],[\"relu\",\"relu\",\"relu\",\"softmax\"])\n",
    "optimizer = torch.optim.RMSprop(nn5.parameters(), lr=0.001)\n",
    "train(Xtrain_standart, ytrain, Xval_standart, yval, nn5, 40, nn.CrossEntropyLoss(),optimizer)\n",
    "result = nn5.predict(Xval_standart)\n",
    "print(\"Acuuracy rate = \",accuracy_score(yval,result))"
   ]
  },
  {
   "cell_type": "code",
   "execution_count": null,
   "metadata": {},
   "outputs": [
    {
     "name": "stdout",
     "output_type": "stream",
     "text": [
      "Epoch 10/40 - Loss: 2.3030\n",
      "Epoch 20/40 - Loss: 2.3029\n",
      "Epoch 30/40 - Loss: 2.3027\n",
      "Epoch 40/40 - Loss: 2.3025\n",
      "Acuuracy rate =  0.10276190476190476\n"
     ]
    }
   ],
   "source": [
    "nn5 = NeuralNetwork(4,[512,256,128,10],[\"relu\",\"relu\",\"relu\",\"softmax\"])\n",
    "optimizer = torch.optim.Adadelta(nn5.parameters(), lr=0.001)\n",
    "train(Xtrain_standart, ytrain, Xval_standart, yval, nn5, 40, nn.CrossEntropyLoss(),optimizer)\n",
    "result = nn5.predict(Xval_standart)\n",
    "print(\"Acuuracy rate = \",accuracy_score(yval,result))"
   ]
  },
  {
   "cell_type": "code",
   "execution_count": null,
   "metadata": {},
   "outputs": [
    {
     "name": "stdout",
     "output_type": "stream",
     "text": [
      "Epoch 10/40 - Loss: 2.3025\n",
      "Epoch 20/40 - Loss: 2.3025\n",
      "Epoch 30/40 - Loss: 2.3025\n",
      "Epoch 40/40 - Loss: 2.3025\n",
      "Acuuracy rate =  0.09752380952380953\n"
     ]
    }
   ],
   "source": [
    "nn7 = NeuralNetwork(5,[512,256,128,64,10],[\"relu\",\"relu\",\"relu\",\"relu\",\"softmax\"])\n",
    "optimizer = torch.optim.SGD(nn7.parameters(), lr=0.001)\n",
    "train(Xtrain_standart, ytrain, Xval_standart, yval, nn7, 40, nn.CrossEntropyLoss(),optimizer)\n",
    "result = nn7.predict(Xval_standart)\n",
    "print(\"Acuuracy rate = \",accuracy_score(yval,result))"
   ]
  },
  {
   "cell_type": "code",
   "execution_count": null,
   "metadata": {},
   "outputs": [
    {
     "name": "stdout",
     "output_type": "stream",
     "text": [
      "Epoch 10/40 - Loss: 1.7201\n",
      "Epoch 20/40 - Loss: 1.6955\n",
      "Epoch 30/40 - Loss: 1.6825\n",
      "Epoch 40/40 - Loss: 1.6743\n",
      "Acuuracy rate =  0.7810476190476191\n"
     ]
    }
   ],
   "source": [
    "nn7 = NeuralNetwork(5,[512,256,128,64,10],[\"relu\",\"relu\",\"relu\",\"relu\",\"softmax\"])\n",
    "optimizer = torch.optim.Adagrad(nn7.parameters(), lr=0.001)\n",
    "train(Xtrain_standart, ytrain, Xval_standart, yval, nn7, 40, nn.CrossEntropyLoss(),optimizer)\n",
    "result = nn7.predict(Xval_standart)\n",
    "print(\"Acuuracy rate = \",accuracy_score(yval,result))"
   ]
  },
  {
   "cell_type": "code",
   "execution_count": null,
   "metadata": {},
   "outputs": [
    {
     "name": "stdout",
     "output_type": "stream",
     "text": [
      "Epoch 10/40 - Loss: 1.7364\n",
      "Epoch 20/40 - Loss: 1.7102\n",
      "Epoch 30/40 - Loss: 1.6980\n",
      "Epoch 40/40 - Loss: 1.6875\n",
      "Acuuracy rate =  0.7053333333333334\n"
     ]
    }
   ],
   "source": [
    "nn7 = NeuralNetwork(5,[512,256,128,64,10],[\"relu\",\"relu\",\"relu\",\"relu\",\"softmax\"])\n",
    "optimizer = torch.optim.RMSprop(nn7.parameters(), lr=0.001)\n",
    "train(Xtrain_standart, ytrain, Xval_standart, yval, nn7, 40, nn.CrossEntropyLoss(),optimizer)\n",
    "result = nn7.predict(Xval_standart)\n",
    "print(\"Acuuracy rate = \",accuracy_score(yval,result))"
   ]
  },
  {
   "cell_type": "code",
   "execution_count": null,
   "metadata": {},
   "outputs": [
    {
     "name": "stdout",
     "output_type": "stream",
     "text": [
      "Epoch 10/40 - Train Loss: 2.3027 - Val Accuracy: 0.0788\n",
      "Epoch 20/40 - Train Loss: 2.3026 - Val Accuracy: 0.0814\n",
      "Epoch 30/40 - Train Loss: 2.3026 - Val Accuracy: 0.0833\n",
      "Epoch 40/40 - Train Loss: 2.3026 - Val Accuracy: 0.0847\n",
      "Acuuracy rate =  0.08466666666666667\n"
     ]
    }
   ],
   "source": [
    "nn7 = NeuralNetwork(5,[512,256,128,64,10],[\"relu\",\"relu\",\"relu\",\"relu\",\"softmax\"])\n",
    "optimizer = torch.optim.Adadelta(nn7.parameters(), lr=0.001)\n",
    "train(Xtrain_standart, ytrain, Xval_standart, yval, nn7, 40, nn.CrossEntropyLoss(),optimizer)\n",
    "result = nn7.predict(Xval_standart)\n",
    "print(\"Acuuracy rate = \",accuracy_score(yval,result))"
   ]
  },
  {
   "cell_type": "markdown",
   "metadata": {},
   "source": [
    "## Next Steps: Top 3 Models for Regularization\n",
    "\n",
    "Based on our validation results, we will take the following three model-optimizer combinations into the regularization stage:\n",
    "\n",
    "1. **NN3** (256 → 128 → 10) with **Adam** (Val. Acc. 0.8333)  \n",
    "2. **NN3** (256 → 128 → 10) with **RMSprop** (Val. Acc. 0.8332)  \n",
    "3. **NN5** (512 → 256 → 128 → 10) with **Adagrad** (Val. Acc. 0.8320)  \n",
    "\n",
    "In the next round, we’ll apply and compare different regularization techniques (e.g. dropout, weight decay, batch normalization) to these three candidates to see which yields the best generalization.  \n"
   ]
  },
  {
   "cell_type": "code",
   "execution_count": null,
   "metadata": {},
   "outputs": [
    {
     "name": "stdout",
     "output_type": "stream",
     "text": [
      "Epoch 10/40 - Train Loss: 1.7837 - Val Accuracy: 0.7935\n",
      "Epoch 20/40 - Train Loss: 1.7321 - Val Accuracy: 0.8127\n",
      "Epoch 30/40 - Train Loss: 1.7140 - Val Accuracy: 0.8190\n",
      "Epoch 40/40 - Train Loss: 1.7040 - Val Accuracy: 0.8221\n",
      "Acuuracy rate with L1 and no dropout =  0.8220952380952381\n",
      "Epoch 10/40 - Train Loss: 1.6393 - Val Accuracy: 0.8045\n",
      "Epoch 20/40 - Train Loss: 1.6038 - Val Accuracy: 0.8237\n",
      "Epoch 30/40 - Train Loss: 1.5851 - Val Accuracy: 0.8293\n",
      "Epoch 40/40 - Train Loss: 1.5737 - Val Accuracy: 0.8277\n",
      "Acuuracy rate with L2 and no dropout =  0.8277142857142857\n",
      "Epoch 10/40 - Train Loss: 1.6560 - Val Accuracy: 0.8081\n",
      "Epoch 20/40 - Train Loss: 1.6296 - Val Accuracy: 0.8246\n",
      "Epoch 30/40 - Train Loss: 1.6154 - Val Accuracy: 0.8327\n",
      "Epoch 40/40 - Train Loss: 1.6034 - Val Accuracy: 0.8350\n",
      "Acuuracy rate with dropout =  0.835047619047619\n",
      "Epoch 10/40 - Train Loss: 1.8242 - Val Accuracy: 0.7854\n",
      "Epoch 20/40 - Train Loss: 1.7904 - Val Accuracy: 0.7994\n",
      "Epoch 30/40 - Train Loss: 1.7743 - Val Accuracy: 0.8070\n",
      "Epoch 40/40 - Train Loss: 1.7652 - Val Accuracy: 0.8106\n",
      "Acuuracy rate with L1 and  dropout =  0.8105714285714286\n",
      "Epoch 10/40 - Train Loss: 1.6601 - Val Accuracy: 0.8105\n",
      "Epoch 20/40 - Train Loss: 1.6369 - Val Accuracy: 0.8215\n",
      "Epoch 30/40 - Train Loss: 1.6152 - Val Accuracy: 0.8289\n",
      "Epoch 40/40 - Train Loss: 1.6066 - Val Accuracy: 0.8337\n",
      "Acuuracy rate with L2 and  dropout =  0.8337142857142857\n",
      "Epoch 10/40 - Train Loss: 2.3393 - Val Accuracy: 0.0992\n",
      "Early stopping triggered at epoch 11\n",
      "Best validation accuracy: 0.1177\n",
      "Acuuracy rate with L1 and no dropout =  0.09771428571428571\n",
      "Epoch 10/40 - Train Loss: 1.6597 - Val Accuracy: 0.8146\n",
      "Epoch 20/40 - Train Loss: 1.6320 - Val Accuracy: 0.8230\n",
      "Epoch 30/40 - Train Loss: 1.6130 - Val Accuracy: 0.8314\n",
      "Epoch 40/40 - Train Loss: 1.5992 - Val Accuracy: 0.8380\n",
      "Acuuracy rate with L2 and no dropout =  0.838\n",
      "Epoch 10/40 - Train Loss: 1.6579 - Val Accuracy: 0.8068\n",
      "Epoch 20/40 - Train Loss: 1.6305 - Val Accuracy: 0.8222\n",
      "Epoch 30/40 - Train Loss: 1.6145 - Val Accuracy: 0.8297\n",
      "Epoch 40/40 - Train Loss: 1.6026 - Val Accuracy: 0.8342\n",
      "Acuuracy rate with dropout =  0.8341904761904761\n",
      "Epoch 10/40 - Train Loss: 2.3392 - Val Accuracy: 0.0983\n",
      "Early stopping triggered at epoch 11\n",
      "Best validation accuracy: 0.1692\n",
      "Acuuracy rate with L1 and  dropout =  0.09771428571428571\n",
      "Epoch 10/40 - Train Loss: 1.6848 - Val Accuracy: 0.8109\n",
      "Epoch 20/40 - Train Loss: 1.6605 - Val Accuracy: 0.8270\n",
      "Epoch 30/40 - Train Loss: 1.6479 - Val Accuracy: 0.8304\n",
      "Epoch 40/40 - Train Loss: 1.6378 - Val Accuracy: 0.8388\n",
      "Acuuracy rate with L2 and  dropout =  0.8387619047619047\n",
      "Epoch 10/40 - Train Loss: 2.6739 - Val Accuracy: 0.0983\n",
      "Early stopping triggered at epoch 12\n",
      "Best validation accuracy: 0.1069\n",
      "Acuuracy rate with L1 and no dropout =  0.09828571428571428\n",
      "Epoch 10/40 - Train Loss: 1.8019 - Val Accuracy: 0.8070\n",
      "Epoch 20/40 - Train Loss: 1.7850 - Val Accuracy: 0.8185\n",
      "Epoch 30/40 - Train Loss: 1.7763 - Val Accuracy: 0.8263\n",
      "Epoch 40/40 - Train Loss: 1.7696 - Val Accuracy: 0.8330\n",
      "Acuuracy rate with L2 and no dropout =  0.833047619047619\n",
      "Epoch 10/40 - Train Loss: 1.6581 - Val Accuracy: 0.8148\n",
      "Epoch 20/40 - Train Loss: 1.6322 - Val Accuracy: 0.8201\n",
      "Epoch 30/40 - Train Loss: 1.6121 - Val Accuracy: 0.8345\n",
      "Epoch 40/40 - Train Loss: 1.6007 - Val Accuracy: 0.8342\n",
      "Acuuracy rate with dropout =  0.8341904761904761\n",
      "Epoch 10/40 - Train Loss: 2.6740 - Val Accuracy: 0.0983\n",
      "Early stopping triggered at epoch 11\n",
      "Best validation accuracy: 0.1069\n",
      "Acuuracy rate with L1 and  dropout =  0.09828571428571428\n",
      "Epoch 10/40 - Train Loss: 1.8275 - Val Accuracy: 0.7885\n",
      "Epoch 20/40 - Train Loss: 1.8092 - Val Accuracy: 0.8110\n",
      "Epoch 30/40 - Train Loss: 1.8042 - Val Accuracy: 0.8149\n",
      "Epoch 40/40 - Train Loss: 1.8012 - Val Accuracy: 0.8173\n",
      "Acuuracy rate with L2 and  dropout =  0.8173333333333334\n",
      "Epoch 10/40 - Train Loss: 6.0446 - Val Accuracy: 0.0977\n",
      "Epoch 20/40 - Train Loss: 6.0401 - Val Accuracy: 0.1045\n",
      "Early stopping triggered at epoch 26\n",
      "Best validation accuracy: 0.1069\n",
      "Acuuracy rate with L1 and no dropout =  0.09828571428571428\n",
      "Epoch 10/40 - Train Loss: 2.5007 - Val Accuracy: 0.5468\n",
      "Epoch 20/40 - Train Loss: 2.4918 - Val Accuracy: 0.5583\n",
      "Epoch 30/40 - Train Loss: 2.4916 - Val Accuracy: 0.5547\n",
      "Early stopping triggered at epoch 36\n",
      "Best validation accuracy: 0.5594\n",
      "Acuuracy rate with L2 and no dropout =  0.5525714285714286\n",
      "Epoch 10/40 - Train Loss: 1.6609 - Val Accuracy: 0.8082\n",
      "Epoch 20/40 - Train Loss: 1.6328 - Val Accuracy: 0.8224\n",
      "Epoch 30/40 - Train Loss: 1.6174 - Val Accuracy: 0.8316\n",
      "Epoch 40/40 - Train Loss: 1.6029 - Val Accuracy: 0.8365\n",
      "Acuuracy rate with dropout =  0.8364761904761905\n",
      "Epoch 10/40 - Train Loss: 6.0418 - Val Accuracy: 0.0981\n",
      "Early stopping triggered at epoch 11\n",
      "Best validation accuracy: 0.1069\n",
      "Acuuracy rate with L1 and  dropout =  0.09647619047619048\n",
      "Epoch 10/40 - Train Loss: 2.5039 - Val Accuracy: 0.4689\n",
      "Epoch 20/40 - Train Loss: 2.5015 - Val Accuracy: 0.4745\n",
      "Epoch 30/40 - Train Loss: 2.5015 - Val Accuracy: 0.4661\n",
      "Early stopping triggered at epoch 30\n",
      "Best validation accuracy: 0.4745\n",
      "Acuuracy rate with L2 and  dropout =  0.4660952380952381\n",
      "Epoch 10/40 - Train Loss: 39.7513 - Val Accuracy: 0.0983\n",
      "Early stopping triggered at epoch 14\n",
      "Best validation accuracy: 0.1069\n",
      "Acuuracy rate with L1 and no dropout =  0.09923809523809524\n",
      "Epoch 10/40 - Train Loss: 2.3279 - Val Accuracy: 0.1045\n",
      "Early stopping triggered at epoch 11\n",
      "Best validation accuracy: 0.1738\n",
      "Acuuracy rate with L2 and no dropout =  0.09647619047619048\n",
      "Epoch 10/40 - Train Loss: 1.6633 - Val Accuracy: 0.8052\n",
      "Epoch 20/40 - Train Loss: 1.6309 - Val Accuracy: 0.8209\n",
      "Epoch 30/40 - Train Loss: 1.6135 - Val Accuracy: 0.8306\n",
      "Epoch 40/40 - Train Loss: 1.6041 - Val Accuracy: 0.8376\n",
      "Acuuracy rate with dropout =  0.8376190476190476\n",
      "Epoch 10/40 - Train Loss: 39.7741 - Val Accuracy: 0.0992\n",
      "Early stopping triggered at epoch 16\n",
      "Best validation accuracy: 0.1069\n",
      "Acuuracy rate with L1 and  dropout =  0.09923809523809524\n",
      "Epoch 10/40 - Train Loss: 2.3306 - Val Accuracy: 0.1045\n",
      "Early stopping triggered at epoch 17\n",
      "Best validation accuracy: 0.1045\n",
      "Acuuracy rate with L2 and  dropout =  0.10142857142857142\n"
     ]
    }
   ],
   "source": [
    "lambda_values = [0.0001, 0.001, 0.01, 0.1,1]\n",
    "for lambda_value in lambda_values:\n",
    "    nn3 = NeuralNetwork(3,[256,128,10],[\"relu\",\"relu\",\"softmax\"])\n",
    "    optimizer = torch.optim.Adam(nn3.parameters(), lr=0.001)\n",
    "    train(Xtrain_standart, ytrain, Xval_standart, yval, nn3, 40, nn.CrossEntropyLoss(),optimizer,batch_size=1000, patience=10,reg_type=\"L1\", reg_l=lambda_value)\n",
    "    result = nn3.predict(Xval_standart)\n",
    "    print(\"Acuuracy rate with L1 and no dropout = \",accuracy_score(yval,result))\n",
    "    nn3 = NeuralNetwork(3,[256,128,10],[\"relu\",\"relu\",\"softmax\"])\n",
    "    optimizer = torch.optim.Adam(nn3.parameters(), lr=0.001)\n",
    "    train(Xtrain_standart, ytrain, Xval_standart, yval, nn3, 40, nn.CrossEntropyLoss(),optimizer,batch_size=1000, patience=10,reg_type=\"L2\", reg_l=lambda_value)\n",
    "    result = nn3.predict(Xval_standart)\n",
    "    print(\"Acuuracy rate with L2 and no dropout = \",accuracy_score(yval,result))\n",
    "    nn3 = NeuralNetwork(3,[256,128,10],[\"relu\",\"relu\",\"softmax\"],dropout_rates=[0.2, 0.3, 0])\n",
    "    optimizer = torch.optim.Adam(nn3.parameters(), lr=0.001)\n",
    "    train(Xtrain_standart, ytrain, Xval_standart, yval, nn3, 40, nn.CrossEntropyLoss(),optimizer)\n",
    "    result = nn3.predict(Xval_standart)\n",
    "    print(\"Acuuracy rate with dropout = \",accuracy_score(yval,result))\n",
    "    nn3 = NeuralNetwork(3,[256,128,10],[\"relu\",\"relu\",\"softmax\"],dropout_rates=[0.2, 0.3, 0])\n",
    "    optimizer = torch.optim.Adam(nn3.parameters(), lr=0.001)\n",
    "    train(Xtrain_standart, ytrain, Xval_standart, yval, nn3, 40, nn.CrossEntropyLoss(),optimizer,batch_size=1000, patience=10,reg_type=\"L1\", reg_l=lambda_value)\n",
    "    result = nn3.predict(Xval_standart)\n",
    "    print(\"Acuuracy rate with L1 and  dropout = \",accuracy_score(yval,result))\n",
    "    nn3 = NeuralNetwork(3,[256,128,10],[\"relu\",\"relu\",\"softmax\"],dropout_rates=[0.2, 0.3, 0])\n",
    "    optimizer = torch.optim.Adam(nn3.parameters(), lr=0.001)\n",
    "    train(Xtrain_standart, ytrain, Xval_standart, yval, nn3, 40, nn.CrossEntropyLoss(),optimizer,batch_size=1000, patience=10,reg_type=\"L2\", reg_l=lambda_value)\n",
    "    result = nn3.predict(Xval_standart)\n",
    "    print(\"Acuuracy rate with L2 and  dropout = \",accuracy_score(yval,result))\n"
   ]
  },
  {
   "cell_type": "code",
   "execution_count": null,
   "metadata": {},
   "outputs": [
    {
     "name": "stdout",
     "output_type": "stream",
     "text": [
      "Epoch 10/40 - Train Loss: 1.7828 - Val Accuracy: 0.7794\n",
      "Epoch 20/40 - Train Loss: 1.7504 - Val Accuracy: 0.7975\n",
      "Epoch 30/40 - Train Loss: 1.7342 - Val Accuracy: 0.7998\n",
      "Early stopping triggered at epoch 34\n",
      "Best validation accuracy: 0.8054\n",
      "RMSprop - Acuuracy rate with L1 and no dropout =  0.805047619047619\n",
      "Epoch 10/40 - Train Loss: 1.6421 - Val Accuracy: 0.7850\n",
      "Epoch 20/40 - Train Loss: 1.6139 - Val Accuracy: 0.8107\n",
      "Epoch 30/40 - Train Loss: 1.5954 - Val Accuracy: 0.8277\n",
      "Epoch 40/40 - Train Loss: 1.5832 - Val Accuracy: 0.8315\n",
      "RMSprop - Acuuracy rate with L2 and no dropout =  0.8315238095238096\n",
      "Epoch 10/40 - Train Loss: 1.6575 - Val Accuracy: 0.8003\n",
      "Epoch 20/40 - Train Loss: 1.6352 - Val Accuracy: 0.8108\n",
      "Epoch 30/40 - Train Loss: 1.6202 - Val Accuracy: 0.8149\n",
      "Epoch 40/40 - Train Loss: 1.6089 - Val Accuracy: 0.8304\n",
      "RMSprop - Acuuracy rate with dropout =  0.8303809523809523\n",
      "Epoch 10/40 - Train Loss: 1.8208 - Val Accuracy: 0.7712\n",
      "Epoch 20/40 - Train Loss: 1.7939 - Val Accuracy: 0.7867\n",
      "Epoch 30/40 - Train Loss: 1.7854 - Val Accuracy: 0.8030\n",
      "Epoch 40/40 - Train Loss: 1.7782 - Val Accuracy: 0.7972\n",
      "RMSprop - Acuuracy rate with L1 and dropout =  0.7972380952380952\n",
      "Epoch 10/40 - Train Loss: 1.6591 - Val Accuracy: 0.8049\n",
      "Epoch 20/40 - Train Loss: 1.6359 - Val Accuracy: 0.8174\n",
      "Epoch 30/40 - Train Loss: 1.6213 - Val Accuracy: 0.8251\n",
      "Epoch 40/40 - Train Loss: 1.6110 - Val Accuracy: 0.8304\n",
      "RMSprop - Acuuracy rate with L2 and dropout =  0.8303809523809523\n",
      "Epoch 10/40 - Train Loss: 2.4544 - Val Accuracy: 0.0992\n",
      "Early stopping triggered at epoch 14\n",
      "Best validation accuracy: 0.1069\n",
      "RMSprop - Acuuracy rate with L1 and no dropout =  0.058666666666666666\n",
      "Epoch 10/40 - Train Loss: 1.7558 - Val Accuracy: 0.7199\n",
      "Epoch 20/40 - Train Loss: 1.6455 - Val Accuracy: 0.8236\n",
      "Epoch 30/40 - Train Loss: 1.6306 - Val Accuracy: 0.8033\n",
      "Early stopping triggered at epoch 30\n",
      "Best validation accuracy: 0.8236\n",
      "RMSprop - Acuuracy rate with L2 and no dropout =  0.8033333333333333\n",
      "Epoch 10/40 - Train Loss: 1.6554 - Val Accuracy: 0.8081\n",
      "Epoch 20/40 - Train Loss: 1.6330 - Val Accuracy: 0.8073\n",
      "Epoch 30/40 - Train Loss: 1.6195 - Val Accuracy: 0.8286\n",
      "Epoch 40/40 - Train Loss: 1.6033 - Val Accuracy: 0.8300\n",
      "RMSprop - Acuuracy rate with dropout =  0.83\n",
      "Epoch 10/40 - Train Loss: 2.4544 - Val Accuracy: 0.0990\n",
      "Epoch 20/40 - Train Loss: 2.4509 - Val Accuracy: 0.0965\n",
      "Early stopping triggered at epoch 22\n",
      "Best validation accuracy: 0.1045\n",
      "RMSprop - Acuuracy rate with L1 and dropout =  0.09847619047619048\n",
      "Epoch 10/40 - Train Loss: 1.6838 - Val Accuracy: 0.7902\n",
      "Epoch 20/40 - Train Loss: 1.6631 - Val Accuracy: 0.8164\n",
      "Epoch 30/40 - Train Loss: 1.6476 - Val Accuracy: 0.8215\n",
      "Epoch 40/40 - Train Loss: 1.6439 - Val Accuracy: 0.8323\n",
      "RMSprop - Acuuracy rate with L2 and dropout =  0.8322857142857143\n",
      "Epoch 10/40 - Train Loss: 3.8191 - Val Accuracy: 0.0981\n",
      "Epoch 20/40 - Train Loss: 3.7852 - Val Accuracy: 0.1079\n",
      "Epoch 30/40 - Train Loss: 3.7842 - Val Accuracy: 0.1069\n",
      "Early stopping triggered at epoch 30\n",
      "Best validation accuracy: 0.1079\n",
      "RMSprop - Acuuracy rate with L1 and no dropout =  0.10685714285714286\n",
      "Epoch 10/40 - Train Loss: 1.8201 - Val Accuracy: 0.7842\n",
      "Epoch 20/40 - Train Loss: 1.8017 - Val Accuracy: 0.7999\n",
      "Epoch 30/40 - Train Loss: 1.7978 - Val Accuracy: 0.7960\n",
      "Epoch 40/40 - Train Loss: 1.7877 - Val Accuracy: 0.8102\n",
      "RMSprop - Acuuracy rate with L2 and no dropout =  0.8101904761904762\n",
      "Epoch 10/40 - Train Loss: 1.6545 - Val Accuracy: 0.8040\n",
      "Epoch 20/40 - Train Loss: 1.6311 - Val Accuracy: 0.8190\n",
      "Epoch 30/40 - Train Loss: 1.6165 - Val Accuracy: 0.8296\n",
      "Epoch 40/40 - Train Loss: 1.6050 - Val Accuracy: 0.8285\n",
      "RMSprop - Acuuracy rate with dropout =  0.8284761904761905\n",
      "Epoch 10/40 - Train Loss: 3.8192 - Val Accuracy: 0.0977\n",
      "Early stopping triggered at epoch 18\n",
      "Best validation accuracy: 0.1069\n",
      "RMSprop - Acuuracy rate with L1 and dropout =  0.09828571428571428\n",
      "Epoch 10/40 - Train Loss: 1.8389 - Val Accuracy: 0.7746\n",
      "Epoch 20/40 - Train Loss: 1.8225 - Val Accuracy: 0.7802\n",
      "Epoch 30/40 - Train Loss: 1.8202 - Val Accuracy: 0.8039\n",
      "Epoch 40/40 - Train Loss: 1.8163 - Val Accuracy: 0.7971\n",
      "RMSprop - Acuuracy rate with L2 and dropout =  0.7971428571428572\n",
      "Epoch 10/40 - Train Loss: 17.4384 - Val Accuracy: 0.0977\n",
      "Early stopping triggered at epoch 11\n",
      "Best validation accuracy: 0.0992\n",
      "RMSprop - Acuuracy rate with L1 and no dropout =  0.09771428571428571\n",
      "Epoch 10/40 - Train Loss: 2.3416 - Val Accuracy: 0.0992\n",
      "Early stopping triggered at epoch 11\n",
      "Best validation accuracy: 0.1695\n",
      "RMSprop - Acuuracy rate with L2 and no dropout =  0.08895238095238095\n",
      "Epoch 10/40 - Train Loss: 1.6575 - Val Accuracy: 0.8061\n",
      "Epoch 20/40 - Train Loss: 1.6310 - Val Accuracy: 0.8059\n",
      "Epoch 30/40 - Train Loss: 1.6174 - Val Accuracy: 0.8275\n",
      "Early stopping triggered at epoch 37\n",
      "Best validation accuracy: 0.8303\n",
      "RMSprop - Acuuracy rate with dropout =  0.828952380952381\n",
      "Epoch 10/40 - Train Loss: 17.4417 - Val Accuracy: 0.0981\n",
      "Early stopping triggered at epoch 14\n",
      "Best validation accuracy: 0.1094\n",
      "RMSprop - Acuuracy rate with L1 and dropout =  0.10676190476190477\n",
      "Epoch 10/40 - Train Loss: 2.3417 - Val Accuracy: 0.0965\n",
      "Early stopping triggered at epoch 18\n",
      "Best validation accuracy: 0.1014\n",
      "RMSprop - Acuuracy rate with L2 and dropout =  0.09771428571428571\n",
      "Epoch 10/40 - Train Loss: 152.5358 - Val Accuracy: 0.0985\n",
      "Early stopping triggered at epoch 18\n",
      "Best validation accuracy: 0.1499\n",
      "RMSprop - Acuuracy rate with L1 and no dropout =  0.10447619047619047\n",
      "Epoch 10/40 - Train Loss: 2.6912 - Val Accuracy: 0.0943\n",
      "Early stopping triggered at epoch 18\n",
      "Best validation accuracy: 0.1069\n",
      "RMSprop - Acuuracy rate with L2 and no dropout =  0.028095238095238097\n",
      "Epoch 10/40 - Train Loss: 1.6590 - Val Accuracy: 0.8030\n",
      "Epoch 20/40 - Train Loss: 1.6322 - Val Accuracy: 0.8198\n",
      "Epoch 30/40 - Train Loss: 1.6176 - Val Accuracy: 0.8334\n",
      "Epoch 40/40 - Train Loss: 1.6069 - Val Accuracy: 0.8304\n",
      "Early stopping triggered at epoch 40\n",
      "Best validation accuracy: 0.8334\n",
      "RMSprop - Acuuracy rate with dropout =  0.8303809523809523\n",
      "Epoch 10/40 - Train Loss: 152.5360 - Val Accuracy: 0.0946\n",
      "Early stopping triggered at epoch 18\n",
      "Best validation accuracy: 0.1547\n",
      "RMSprop - Acuuracy rate with L1 and dropout =  0.09647619047619048\n",
      "Epoch 10/40 - Train Loss: 2.6913 - Val Accuracy: 0.0992\n",
      "Early stopping triggered at epoch 13\n",
      "Best validation accuracy: 0.1069\n",
      "RMSprop - Acuuracy rate with L2 and dropout =  0.10142857142857142\n"
     ]
    }
   ],
   "source": [
    "lambda_values = [0.0001, 0.001, 0.01, 0.1, 1]\n",
    "for lambda_value in lambda_values:\n",
    "    nn3 = NeuralNetwork(3,[256,128,10],[\"relu\",\"relu\",\"softmax\"])\n",
    "    optimizer = torch.optim.RMSprop(nn3.parameters(), lr=0.001)\n",
    "    train(Xtrain_standart, ytrain, Xval_standart, yval, nn3, 40, nn.CrossEntropyLoss(),optimizer,batch_size=1000, patience=10,reg_type=\"L1\", reg_l=lambda_value)\n",
    "    result = nn3.predict(Xval_standart)\n",
    "    print(\"RMSprop - Acuuracy rate with L1 and no dropout = \",accuracy_score(yval,result))\n",
    "    \n",
    "    nn3 = NeuralNetwork(3,[256,128,10],[\"relu\",\"relu\",\"softmax\"])\n",
    "    optimizer = torch.optim.RMSprop(nn3.parameters(), lr=0.001)\n",
    "    train(Xtrain_standart, ytrain, Xval_standart, yval, nn3, 40, nn.CrossEntropyLoss(),optimizer,batch_size=1000, patience=10,reg_type=\"L2\", reg_l=lambda_value)\n",
    "    result = nn3.predict(Xval_standart)\n",
    "    print(\"RMSprop - Acuuracy rate with L2 and no dropout = \",accuracy_score(yval,result))\n",
    "    \n",
    "    nn3 = NeuralNetwork(3,[256,128,10],[\"relu\",\"relu\",\"softmax\"],dropout_rates=[0.2, 0.3, 0])\n",
    "    optimizer = torch.optim.RMSprop(nn3.parameters(), lr=0.001)\n",
    "    train(Xtrain_standart, ytrain, Xval_standart, yval, nn3, 40, nn.CrossEntropyLoss(),optimizer)\n",
    "    result = nn3.predict(Xval_standart)\n",
    "    print(\"RMSprop - Acuuracy rate with dropout = \",accuracy_score(yval,result))\n",
    "    \n",
    "    nn3 = NeuralNetwork(3,[256,128,10],[\"relu\",\"relu\",\"softmax\"],dropout_rates=[0.2, 0.3, 0])\n",
    "    optimizer = torch.optim.RMSprop(nn3.parameters(), lr=0.001)\n",
    "    train(Xtrain_standart, ytrain, Xval_standart, yval, nn3, 40, nn.CrossEntropyLoss(),optimizer,batch_size=1000, patience=10,reg_type=\"L1\", reg_l=lambda_value)\n",
    "    result = nn3.predict(Xval_standart)\n",
    "    print(\"RMSprop - Acuuracy rate with L1 and dropout = \",accuracy_score(yval,result))\n",
    "    \n",
    "    nn3 = NeuralNetwork(3,[256,128,10],[\"relu\",\"relu\",\"softmax\"],dropout_rates=[0.2, 0.3, 0])\n",
    "    optimizer = torch.optim.RMSprop(nn3.parameters(), lr=0.001)\n",
    "    train(Xtrain_standart, ytrain, Xval_standart, yval, nn3, 40, nn.CrossEntropyLoss(),optimizer,batch_size=1000, patience=10,reg_type=\"L2\", reg_l=lambda_value)\n",
    "    result = nn3.predict(Xval_standart)\n",
    "    print(\"RMSprop - Acuuracy rate with L2 and dropout = \",accuracy_score(yval,result))\n"
   ]
  },
  {
   "cell_type": "code",
   "execution_count": null,
   "metadata": {},
   "outputs": [
    {
     "name": "stdout",
     "output_type": "stream",
     "text": [
      "Epoch 10/40 - Train Loss: 2.0624 - Val Accuracy: 0.6607\n",
      "Epoch 20/40 - Train Loss: 1.9390 - Val Accuracy: 0.7242\n",
      "Epoch 30/40 - Train Loss: 1.9064 - Val Accuracy: 0.7369\n",
      "Epoch 40/40 - Train Loss: 1.8889 - Val Accuracy: 0.7421\n",
      "Adagrad NN5 - Acuuracy rate with L1 and no dropout =  0.7420952380952381\n",
      "Epoch 10/40 - Train Loss: 1.7118 - Val Accuracy: 0.7630\n",
      "Epoch 20/40 - Train Loss: 1.6905 - Val Accuracy: 0.7741\n",
      "Epoch 30/40 - Train Loss: 1.6792 - Val Accuracy: 0.7785\n",
      "Epoch 40/40 - Train Loss: 1.6721 - Val Accuracy: 0.7801\n",
      "Adagrad NN5 - Acuuracy rate with L2 and no dropout =  0.7800952380952381\n",
      "Epoch 10/40 - Train Loss: 1.7339 - Val Accuracy: 0.7499\n",
      "Epoch 20/40 - Train Loss: 1.7089 - Val Accuracy: 0.7710\n",
      "Epoch 30/40 - Train Loss: 1.6951 - Val Accuracy: 0.7839\n",
      "Epoch 40/40 - Train Loss: 1.6831 - Val Accuracy: 0.7934\n",
      "Adagrad NN5 - Acuuracy rate with dropout =  0.7934285714285715\n",
      "Epoch 10/40 - Train Loss: 2.0992 - Val Accuracy: 0.6401\n",
      "Epoch 20/40 - Train Loss: 1.9719 - Val Accuracy: 0.7213\n",
      "Epoch 30/40 - Train Loss: 1.9427 - Val Accuracy: 0.7319\n",
      "Epoch 40/40 - Train Loss: 1.9259 - Val Accuracy: 0.7367\n",
      "Adagrad NN5 - Acuuracy rate with L1 and dropout =  0.7366666666666667\n",
      "Epoch 10/40 - Train Loss: 1.7392 - Val Accuracy: 0.7496\n",
      "Epoch 20/40 - Train Loss: 1.7185 - Val Accuracy: 0.7616\n",
      "Epoch 30/40 - Train Loss: 1.7070 - Val Accuracy: 0.7703\n",
      "Epoch 40/40 - Train Loss: 1.6997 - Val Accuracy: 0.7751\n",
      "Adagrad NN5 - Acuuracy rate with L2 and dropout =  0.7751428571428571\n",
      "Epoch 10/40 - Train Loss: 2.7410 - Val Accuracy: 0.0992\n",
      "Early stopping triggered at epoch 14\n",
      "Best validation accuracy: 0.0992\n",
      "Adagrad NN5 - Acuuracy rate with L1 and no dropout =  0.09923809523809524\n",
      "Epoch 10/40 - Train Loss: 1.7448 - Val Accuracy: 0.7574\n",
      "Epoch 20/40 - Train Loss: 1.7153 - Val Accuracy: 0.7852\n",
      "Epoch 30/40 - Train Loss: 1.6954 - Val Accuracy: 0.7985\n",
      "Epoch 40/40 - Train Loss: 1.6830 - Val Accuracy: 0.8043\n",
      "Adagrad NN5 - Acuuracy rate with L2 and no dropout =  0.8042857142857143\n",
      "Epoch 10/40 - Train Loss: 1.7318 - Val Accuracy: 0.7515\n",
      "Epoch 20/40 - Train Loss: 1.7114 - Val Accuracy: 0.7652\n",
      "Epoch 30/40 - Train Loss: 1.7004 - Val Accuracy: 0.7712\n",
      "Epoch 40/40 - Train Loss: 1.6925 - Val Accuracy: 0.7820\n",
      "Adagrad NN5 - Acuuracy rate with dropout =  0.782\n",
      "Epoch 10/40 - Train Loss: 2.7349 - Val Accuracy: 0.0965\n",
      "Early stopping triggered at epoch 12\n",
      "Best validation accuracy: 0.0965\n",
      "Adagrad NN5 - Acuuracy rate with L1 and dropout =  0.09647619047619048\n",
      "Epoch 10/40 - Train Loss: 1.7683 - Val Accuracy: 0.7483\n",
      "Epoch 20/40 - Train Loss: 1.7484 - Val Accuracy: 0.7623\n",
      "Epoch 30/40 - Train Loss: 1.7356 - Val Accuracy: 0.7703\n",
      "Epoch 40/40 - Train Loss: 1.7306 - Val Accuracy: 0.7749\n",
      "Adagrad NN5 - Acuuracy rate with L2 and dropout =  0.7748571428571429\n",
      "Epoch 10/40 - Train Loss: 6.6989 - Val Accuracy: 0.0977\n",
      "Early stopping triggered at epoch 11\n",
      "Best validation accuracy: 0.0990\n",
      "Adagrad NN5 - Acuuracy rate with L1 and no dropout =  0.09771428571428571\n",
      "Epoch 10/40 - Train Loss: 1.9833 - Val Accuracy: 0.7612\n",
      "Epoch 20/40 - Train Loss: 1.9378 - Val Accuracy: 0.7871\n",
      "Epoch 30/40 - Train Loss: 1.9118 - Val Accuracy: 0.7974\n",
      "Epoch 40/40 - Train Loss: 1.8951 - Val Accuracy: 0.8001\n",
      "Adagrad NN5 - Acuuracy rate with L2 and no dropout =  0.8000952380952381\n",
      "Epoch 10/40 - Train Loss: 1.7310 - Val Accuracy: 0.7511\n",
      "Epoch 20/40 - Train Loss: 1.7108 - Val Accuracy: 0.7654\n",
      "Epoch 30/40 - Train Loss: 1.6977 - Val Accuracy: 0.7787\n",
      "Epoch 40/40 - Train Loss: 1.6888 - Val Accuracy: 0.7853\n",
      "Adagrad NN5 - Acuuracy rate with dropout =  0.7853333333333333\n",
      "Epoch 10/40 - Train Loss: 6.6868 - Val Accuracy: 0.1014\n",
      "Early stopping triggered at epoch 12\n",
      "Best validation accuracy: 0.1016\n",
      "Adagrad NN5 - Acuuracy rate with L1 and dropout =  0.10142857142857142\n",
      "Epoch 10/40 - Train Loss: 2.0094 - Val Accuracy: 0.7467\n",
      "Epoch 20/40 - Train Loss: 1.9709 - Val Accuracy: 0.7601\n",
      "Epoch 30/40 - Train Loss: 1.9499 - Val Accuracy: 0.7666\n",
      "Epoch 40/40 - Train Loss: 1.9338 - Val Accuracy: 0.7722\n",
      "Adagrad NN5 - Acuuracy rate with L2 and dropout =  0.7721904761904762\n",
      "Epoch 10/40 - Train Loss: 45.9944 - Val Accuracy: 0.1045\n",
      "Early stopping triggered at epoch 13\n",
      "Best validation accuracy: 0.1045\n",
      "Adagrad NN5 - Acuuracy rate with L1 and no dropout =  0.10447619047619047\n",
      "Epoch 10/40 - Train Loss: 2.7089 - Val Accuracy: 0.1045\n",
      "Early stopping triggered at epoch 11\n",
      "Best validation accuracy: 0.3348\n",
      "Adagrad NN5 - Acuuracy rate with L2 and no dropout =  0.10447619047619047\n",
      "Epoch 10/40 - Train Loss: 1.7326 - Val Accuracy: 0.7508\n",
      "Epoch 20/40 - Train Loss: 1.7091 - Val Accuracy: 0.7704\n",
      "Epoch 30/40 - Train Loss: 1.6939 - Val Accuracy: 0.7866\n",
      "Epoch 40/40 - Train Loss: 1.6807 - Val Accuracy: 0.7941\n",
      "Adagrad NN5 - Acuuracy rate with dropout =  0.7940952380952381\n",
      "Epoch 10/40 - Train Loss: 45.9107 - Val Accuracy: 0.0981\n",
      "Early stopping triggered at epoch 13\n",
      "Best validation accuracy: 0.0981\n",
      "Adagrad NN5 - Acuuracy rate with L1 and dropout =  0.0980952380952381\n",
      "Epoch 10/40 - Train Loss: 2.7020 - Val Accuracy: 0.0983\n",
      "Early stopping triggered at epoch 11\n",
      "Best validation accuracy: 0.2162\n",
      "Adagrad NN5 - Acuuracy rate with L2 and dropout =  0.09828571428571428\n",
      "Epoch 10/40 - Train Loss: 437.6425 - Val Accuracy: 0.0965\n",
      "Early stopping triggered at epoch 11\n",
      "Best validation accuracy: 0.0975\n",
      "Adagrad NN5 - Acuuracy rate with L1 and no dropout =  0.09647619047619048\n",
      "Epoch 10/40 - Train Loss: 6.2951 - Val Accuracy: 0.0981\n",
      "Early stopping triggered at epoch 11\n",
      "Best validation accuracy: 0.1549\n",
      "Adagrad NN5 - Acuuracy rate with L2 and no dropout =  0.0980952380952381\n",
      "Epoch 10/40 - Train Loss: 1.7359 - Val Accuracy: 0.7482\n",
      "Epoch 20/40 - Train Loss: 1.7128 - Val Accuracy: 0.7659\n",
      "Epoch 30/40 - Train Loss: 1.6964 - Val Accuracy: 0.7799\n",
      "Epoch 40/40 - Train Loss: 1.6859 - Val Accuracy: 0.7910\n",
      "Adagrad NN5 - Acuuracy rate with dropout =  0.791047619047619\n",
      "Epoch 10/40 - Train Loss: 440.8153 - Val Accuracy: 0.0981\n",
      "Early stopping triggered at epoch 13\n",
      "Best validation accuracy: 0.0991\n",
      "Adagrad NN5 - Acuuracy rate with L1 and dropout =  0.0980952380952381\n",
      "Epoch 10/40 - Train Loss: 6.2934 - Val Accuracy: 0.0965\n",
      "Early stopping triggered at epoch 11\n",
      "Best validation accuracy: 0.1093\n",
      "Adagrad NN5 - Acuuracy rate with L2 and dropout =  0.09647619047619048\n"
     ]
    }
   ],
   "source": [
    "lambda_values = [0.0001, 0.001, 0.01, 0.1, 1]\n",
    "for lambda_value in lambda_values:\n",
    "    nn5 = NeuralNetwork(4,[512,256,128,10],[\"relu\",\"relu\",\"relu\",\"softmax\"])\n",
    "    optimizer = torch.optim.Adagrad(nn5.parameters(), lr=0.001)\n",
    "    train(Xtrain_standart, ytrain, Xval_standart, yval, nn5, 40, nn.CrossEntropyLoss(),optimizer,batch_size=1000, patience=10,reg_type=\"L1\", reg_l=lambda_value)\n",
    "    result = nn5.predict(Xval_standart)\n",
    "    print(\"Adagrad NN5 - Acuuracy rate with L1 and no dropout = \",accuracy_score(yval,result))\n",
    "    \n",
    "    nn5 = NeuralNetwork(4,[512,256,128,10],[\"relu\",\"relu\",\"relu\",\"softmax\"])\n",
    "    optimizer = torch.optim.Adagrad(nn5.parameters(), lr=0.001)\n",
    "    train(Xtrain_standart, ytrain, Xval_standart, yval, nn5, 40, nn.CrossEntropyLoss(),optimizer,batch_size=1000, patience=10,reg_type=\"L2\", reg_l=lambda_value)\n",
    "    result = nn5.predict(Xval_standart)\n",
    "    print(\"Adagrad NN5 - Acuuracy rate with L2 and no dropout = \",accuracy_score(yval,result))\n",
    "    \n",
    "    nn5 = NeuralNetwork(4,[512,256,128,10],[\"relu\",\"relu\",\"relu\",\"softmax\"],dropout_rates=[0.2, 0.3, 0.4, 0])\n",
    "    optimizer = torch.optim.Adagrad(nn5.parameters(), lr=0.001)\n",
    "    train(Xtrain_standart, ytrain, Xval_standart, yval, nn5, 40, nn.CrossEntropyLoss(),optimizer)\n",
    "    result = nn5.predict(Xval_standart)\n",
    "    print(\"Adagrad NN5 - Acuuracy rate with dropout = \",accuracy_score(yval,result))\n",
    "    \n",
    "    nn5 = NeuralNetwork(4,[512,256,128,10],[\"relu\",\"relu\",\"relu\",\"softmax\"],dropout_rates=[0.2, 0.3, 0.4, 0])\n",
    "    optimizer = torch.optim.Adagrad(nn5.parameters(), lr=0.001)\n",
    "    train(Xtrain_standart, ytrain, Xval_standart, yval, nn5, 40, nn.CrossEntropyLoss(),optimizer,batch_size=1000, patience=10,reg_type=\"L1\", reg_l=lambda_value)\n",
    "    result = nn5.predict(Xval_standart)\n",
    "    print(\"Adagrad NN5 - Acuuracy rate with L1 and dropout = \",accuracy_score(yval,result))\n",
    "    \n",
    "    nn5 = NeuralNetwork(4,[512,256,128,10],[\"relu\",\"relu\",\"relu\",\"softmax\"],dropout_rates=[0.2, 0.3, 0.4, 0])\n",
    "    optimizer = torch.optim.Adagrad(nn5.parameters(), lr=0.001)\n",
    "    train(Xtrain_standart, ytrain, Xval_standart, yval, nn5, 40, nn.CrossEntropyLoss(),optimizer,batch_size=1000, patience=10,reg_type=\"L2\", reg_l=lambda_value)\n",
    "    result = nn5.predict(Xval_standart)\n",
    "    print(\"Adagrad NN5 - Acuuracy rate with L2 and dropout = \",accuracy_score(yval,result))"
   ]
  },
  {
   "cell_type": "markdown",
   "metadata": {},
   "source": [
    "#### 🏆 Summary of Regularization Experiments & Baseline Selection\n",
    "\n",
    "We ran exhaustive tests on our two best MLP candidates (NN3 and NN5) using two optimizers for NN3 (Adam, RMSProp) and Adagrad for NN5, alongside a variety of regularization schemes (L1, L2, dropout, and their combinations). All experiments were performed on **standardized** input data.\n",
    "\n",
    "1. **Optimizer Comparison (on NN3)**  \n",
    "   - **Adam** consistently outperformed **RMSProp** on our 3-layer MLP (`[256→128→10]`).  \n",
    "   - RMSProp peaked around **83.15 %**, while Adam reached up to **83.80 %** validation accuracy.\n",
    "\n",
    "2. **Regularizer Impact (with Adam on NN3)**  \n",
    "   - **L2 weight decay** (λ = 0.001) yielded the best single result: **83.80 %** (no dropout).  \n",
    "   - **Dropout alone** (rates = [0.2, 0.3, 0]) gave **83.50 %**.  \n",
    "   - **L1 penalties** severely degraded performance when too large, and never beat L2.  \n",
    "   - Combining L2 + dropout did not surpass L2 alone.\n",
    "\n",
    "3. **NN5 Results (with Adagrad)**  \n",
    "   - The deeper `[512→256→128→10]` network under Adagrad never exceeded **80.5 %**, regardless of regularization.\n",
    "\n",
    "---\n",
    "\n",
    "**✅ Chosen Baseline Configuration**  \n",
    "- **Architecture:** NN3 → `[256, 128, 10]`  \n",
    "- **Optimizer:** Adam (lr = 1 × 10⁻³, weight_decay = 1 × 10⁻³)  \n",
    "- **Regularization:** L2 only (no dropout)  \n",
    "- **Early stopping:** patience = 10 epochs  \n",
    "- **Data preprocessing:** standardized features via `StandardScaler`\n",
    "\n",
    "This setup achieved the highest stable validation accuracy (≈ 83.8 %) on standardized data and will serve as our baseline for comparison against convolutional networks in the next phase.  \n"
   ]
  },
  {
   "cell_type": "markdown",
   "metadata": {},
   "source": [
    "**CNN**: a simple convolutional‐neural‐network module in PyTorch\n",
    "\n",
    "- **`__init__(…, layers_count, layers, activation_func, dropout_rates=None)`**  \n",
    "  - Calls `super().__init__()` to register all submodules.  \n",
    "  - Stores:\n",
    "    - `layers_count`: how many conv+pool blocks we’ll stack.  \n",
    "    - `activation_functions`: list of strings (e.g. `\"relu\"`, `\"softmax\"`) to apply after each convolution.  \n",
    "    - `dropout_rates`: per‐block probability for `Dropout2d` (defaults to 0 for all).  \n",
    "  - Builds three parallel `ModuleList`s:\n",
    "    1. **`self.convs`**: `Conv2d(in_channels, out_channels, kernel_size=3, padding=1)`  \n",
    "    2. **`self.pools`**: `MaxPool2d(kernel_size=2, stride=2)`  \n",
    "    3. **`self.dropouts`**: `Dropout2d(p)`  \n",
    "  - Each index `i` in those lists corresponds to block _i_: conv → activation → pool → dropout.\n",
    "\n",
    "- **`forward(x)`**  \n",
    "  1. If input is 2D `(batch, 1024)`, reshape to `(batch, 1, 32, 32)` so conv‐layers see 4D tensors.  \n",
    "  2. Loop over each block _i_:\n",
    "     - `x = self.convs[i](x)`\n",
    "     - apply `relu` or `softmax` according to `activation_functions[i]`\n",
    "     - `x = self.pools[i](x)`\n",
    "     - `x = self.dropouts[i](x)`\n",
    "  3. After the last pooling, flatten to `(batch, –1)` so you can feed into a final linear/classifier head downstream.\n",
    "\n",
    "- **`predict_proba(df_or_tensor)`**  \n",
    "  - Converts a Pandas DataFrame or tensor to `torch.float32`, reshapes if needed, runs `eval()` + `no_grad()`, and returns raw model outputs (logits).\n",
    "\n",
    "- **`predict(df_or_tensor)`**  \n",
    "  - Calls `predict_proba`, then takes `argmax` along the class‐dimension to produce discrete label predictions.\n",
    "\n",
    "---\n",
    "\n",
    "This class encapsulates a stack of convolution–pool–dropout blocks, exposes a clean `forward` for training, and convenient `predict_proba`/`predict` helpers for inference.\n"
   ]
  },
  {
   "cell_type": "code",
   "execution_count": 4,
   "metadata": {},
   "outputs": [],
   "source": [
    "class CNN(nn.Module):\n",
    "    def __init__(self, layers_count, layers, activation_func, dropout_rates=None, num_classes=10):\n",
    "        super().__init__()\n",
    "        self.layers_count = layers_count\n",
    "        self.activation_functions = activation_func\n",
    "        \n",
    "        self.convs = nn.ModuleList()\n",
    "        self.pools = nn.ModuleList()\n",
    "        self.dropouts = nn.ModuleList()\n",
    "        \n",
    "        for i in range(layers_count):\n",
    "            in_ch = 1 if i == 0 else layers[i-1]\n",
    "            out_ch = layers[i]\n",
    "            self.convs.append(nn.Conv2d(in_channels=in_ch, out_channels=out_ch, kernel_size=3, padding=1))\n",
    "            self.pools.append(nn.MaxPool2d(kernel_size=2, stride=2))\n",
    "            rate = dropout_rates[i] if dropout_rates is not None else 0.0\n",
    "            self.dropouts.append(nn.Dropout2d(rate))\n",
    "        \n",
    "        spatial = 32 // (2 ** layers_count)\n",
    "        feat_dim = layers[-1] * spatial * spatial\n",
    "        \n",
    "        self.fc = nn.Linear(feat_dim, num_classes)\n",
    "\n",
    "    def forward(self, x):\n",
    "        if x.dim() == 2:\n",
    "            x = x.view(-1, 1, 32, 32)\n",
    "        \n",
    "        for idx in range(self.layers_count):\n",
    "            x = self.convs[idx](x)\n",
    "            if self.activation_functions[idx] == \"relu\":\n",
    "                x = F.relu(x)\n",
    "            x = self.pools[idx](x)\n",
    "            x = self.dropouts[idx](x)\n",
    "        \n",
    "        x = x.view(x.size(0), -1)\n",
    "        logits = self.fc(x)\n",
    "        return logits\n",
    "\n",
    "    def predict_proba(self, X):\n",
    "        self.eval()\n",
    "        with torch.no_grad():\n",
    "            data = torch.tensor(X.values if hasattr(X, 'values') else X, dtype=torch.float32)\n",
    "            logits = self.forward(data)\n",
    "            probs = F.softmax(logits, dim=1)\n",
    "        return probs.numpy()\n",
    "\n",
    "    def predict(self, X):\n",
    "        probs = self.predict_proba(X)\n",
    "        return probs.argmax(axis=1)"
   ]
  },
  {
   "cell_type": "markdown",
   "metadata": {},
   "source": [
    "#### 🔄 Repeating the Model Selection Pipeline with CNNs\n",
    "\n",
    "We will now apply our multi-stage tuning workflow—originally used for MLPs—to the new `CNN` class:\n",
    "\n",
    "1. **Architecture search**  \n",
    "   - Define several CNN variants whose block depths and filter counts are analogous to our best MLP topologies (e.g. conv‐blocks with 256→128 filters, 512→256 filters, etc.).  \n",
    "2. **Data preprocessing**  \n",
    "   - Compare raw pixel inputs vs. standardized vs. normalized images.  \n",
    "3. **Optimizer & hyperparameter tuning**  \n",
    "   - Test optimizers (Adam, RMSProp, etc.), learning rates, and weight‐decay (L2).  \n",
    "4. **Regularization & early stopping**  \n",
    "   - Experiment with L1, dropout in conv blocks, and early stopping on validation loss.  \n",
    "This will give us a fair apples-to-apples comparison between our baseline MLP and the new convolutional models.  \n"
   ]
  },
  {
   "cell_type": "code",
   "execution_count": null,
   "metadata": {},
   "outputs": [
    {
     "name": "stdout",
     "output_type": "stream",
     "text": [
      "Epoch 10/40 - Train Loss: 0.5343 - Val Accuracy: 0.8077\n",
      "Epoch 20/40 - Train Loss: 0.4076 - Val Accuracy: 0.8371\n",
      "Epoch 30/40 - Train Loss: 0.3524 - Val Accuracy: 0.8456\n",
      "Epoch 40/40 - Train Loss: 0.3138 - Val Accuracy: 0.8493\n",
      "Acuuracy rate =  0.8493333333333334\n"
     ]
    }
   ],
   "source": [
    "cnn1 = CNN(2,[32,10],[\"relu\",\"softmax\"])\n",
    "optimizer = torch.optim.Adam(cnn1.parameters(), lr=0.001)\n",
    "train(Xtrain, ytrain, Xval, yval, cnn1, 20, nn.CrossEntropyLoss(),optimizer)\n",
    "result = cnn1.predict(Xval)\n",
    "print(\"Acuuracy rate = \",accuracy_score(yval,result))"
   ]
  },
  {
   "cell_type": "code",
   "execution_count": null,
   "metadata": {},
   "outputs": [
    {
     "name": "stdout",
     "output_type": "stream",
     "text": [
      "Epoch 10/20 - Train Loss: 0.4217 - Val Accuracy: 0.8350\n",
      "Epoch 20/20 - Train Loss: 0.3387 - Val Accuracy: 0.8541\n",
      "Acuuracy rate =  0.8540952380952381\n"
     ]
    }
   ],
   "source": [
    "cnn2 = CNN(2,[64,10],[\"relu\",\"softmax\"])\n",
    "optimizer = torch.optim.Adam(cnn2.parameters(), lr=0.001)\n",
    "train(Xtrain, ytrain, Xval, yval, cnn2, 20, nn.CrossEntropyLoss(),optimizer)\n",
    "result = cnn2.predict(Xval)\n",
    "print(\"Acuuracy rate = \",accuracy_score(yval,result))"
   ]
  },
  {
   "cell_type": "code",
   "execution_count": null,
   "metadata": {},
   "outputs": [
    {
     "name": "stdout",
     "output_type": "stream",
     "text": [
      "Epoch 10/20 - Train Loss: 0.4205 - Val Accuracy: 0.8450\n",
      "Epoch 20/20 - Train Loss: 0.3257 - Val Accuracy: 0.8606\n",
      "Acuuracy rate =  0.8605714285714285\n"
     ]
    }
   ],
   "source": [
    "cnn3 = CNN(3,[64,32,10],[\"relu\",\"relu\",\"softmax\"])\n",
    "optimizer = torch.optim.Adam(cnn3.parameters(), lr=0.001)\n",
    "train(Xtrain, ytrain, Xval, yval, cnn3, 20, nn.CrossEntropyLoss(),optimizer)\n",
    "result = cnn3.predict(Xval)\n",
    "print(\"Acuuracy rate = \",accuracy_score(yval,result))"
   ]
  },
  {
   "cell_type": "code",
   "execution_count": null,
   "metadata": {},
   "outputs": [
    {
     "name": "stdout",
     "output_type": "stream",
     "text": [
      "Epoch 10/20 - Train Loss: 0.4586 - Val Accuracy: 0.8291\n",
      "Epoch 20/20 - Train Loss: 0.3542 - Val Accuracy: 0.8597\n",
      "Acuuracy rate =  0.8597142857142858\n"
     ]
    }
   ],
   "source": [
    "cnn4 = CNN(3,[128,64,10],[\"relu\",\"relu\",\"softmax\"])\n",
    "optimizer = torch.optim.Adam(cnn4.parameters(), lr=0.001)\n",
    "train(Xtrain, ytrain, Xval, yval, cnn4, 20, nn.CrossEntropyLoss(),optimizer)\n",
    "result = cnn4.predict(Xval)\n",
    "print(\"Acuuracy rate = \",accuracy_score(yval,result))"
   ]
  },
  {
   "cell_type": "code",
   "execution_count": null,
   "metadata": {},
   "outputs": [
    {
     "name": "stdout",
     "output_type": "stream",
     "text": [
      "Epoch 10/20 - Train Loss: 0.4131 - Val Accuracy: 0.8427\n",
      "Epoch 20/20 - Train Loss: 0.2991 - Val Accuracy: 0.8683\n",
      "Acuuracy rate =  0.8682857142857143\n"
     ]
    }
   ],
   "source": [
    "cnn5 = CNN(4,[128,64,32,10],[\"relu\",\"relu\",\"relu\",\"softmax\"])\n",
    "optimizer = torch.optim.Adam(cnn5.parameters(), lr=0.001)\n",
    "train(Xtrain, ytrain, Xval, yval, cnn5, 20, nn.CrossEntropyLoss(),optimizer)\n",
    "result = cnn5.predict(Xval)\n",
    "print(\"Acuuracy rate = \",accuracy_score(yval,result))"
   ]
  },
  {
   "cell_type": "markdown",
   "metadata": {},
   "source": [
    "### CNN Architecture Selection Summary\n",
    "\n",
    "We evaluated several convolutional neural network topologies with varying numbers of convolutional layers and channel sizes. All models were trained using standardized data, the Adam optimizer (learning rate 0.001), and CrossEntropyLoss for 20 epochs. Below are the validation accuracies:\n",
    "\n",
    "- **cnn1 (2 layers: [32, 10])** — Accuracy: **0.8493**\n",
    "- **cnn2 (2 layers: [64, 10])** — Accuracy: **0.8540**\n",
    "- **cnn3 (3 layers: [64, 32, 10])** — Accuracy: **0.8606**\n",
    "- **cnn4 (3 layers: [128, 64, 10])** — Accuracy: **0.8597**\n",
    "- **cnn5 (4 layers: [128, 64, 32, 10])** — Accuracy: **0.8683**\n",
    "\n",
    "### Selected Architectures for Further Experiments\n",
    "\n",
    "For the next stage, where we will evaluate the impact of different data preprocessing techniques (normalized, standardized), we will continue with the two best-performing models:\n",
    "\n",
    "- ✅ **cnn5** — 4 layers, Accuracy: **0.8683**\n",
    "- ✅ **cnn3** — 3 layers, Accuracy: **0.8606**\n",
    "\n",
    "These models strike a strong balance between depth and performance, and are expected to provide valuable insight during further optimization.\n"
   ]
  },
  {
   "cell_type": "code",
   "execution_count": null,
   "metadata": {},
   "outputs": [
    {
     "name": "stdout",
     "output_type": "stream",
     "text": [
      "Epoch 10/20 - Train Loss: 0.5676 - Val Accuracy: 0.7990\n",
      "Epoch 20/20 - Train Loss: 0.4663 - Val Accuracy: 0.8367\n",
      "Acuuracy rate =  0.8366666666666667\n"
     ]
    }
   ],
   "source": [
    "cnn3 = CNN(3,[64,32,10],[\"relu\",\"relu\",\"softmax\"])\n",
    "optimizer = torch.optim.Adam(cnn3.parameters(), lr=0.001)\n",
    "train(Xtrain_normal, ytrain, Xval_normal, yval, cnn3, 20, nn.CrossEntropyLoss(),optimizer)\n",
    "result = cnn3.predict(Xval_normal)\n",
    "print(\"Acuuracy rate = \",accuracy_score(yval,result))"
   ]
  },
  {
   "cell_type": "code",
   "execution_count": null,
   "metadata": {},
   "outputs": [
    {
     "name": "stdout",
     "output_type": "stream",
     "text": [
      "Epoch 10/20 - Train Loss: 0.5013 - Val Accuracy: 0.8229\n",
      "Epoch 20/20 - Train Loss: 0.4014 - Val Accuracy: 0.8418\n",
      "Acuuracy rate =  0.8418095238095238\n"
     ]
    }
   ],
   "source": [
    "cnn3 = CNN(3,[64,32,10],[\"relu\",\"relu\",\"softmax\"])\n",
    "optimizer = torch.optim.Adam(cnn3.parameters(), lr=0.001)\n",
    "train(Xtrain_standart, ytrain, Xval_standart, yval, cnn3, 20, nn.CrossEntropyLoss(),optimizer)\n",
    "result = cnn3.predict(Xval_standart)\n",
    "print(\"Acuuracy rate = \",accuracy_score(yval,result))"
   ]
  },
  {
   "cell_type": "code",
   "execution_count": null,
   "metadata": {},
   "outputs": [
    {
     "name": "stdout",
     "output_type": "stream",
     "text": [
      "Epoch 10/20 - Train Loss: 0.5429 - Val Accuracy: 0.8095\n",
      "Epoch 20/20 - Train Loss: 0.4602 - Val Accuracy: 0.8378\n",
      "Acuuracy rate =  0.8378095238095238\n"
     ]
    }
   ],
   "source": [
    "cnn5 = CNN(4,[128,64,32,10],[\"relu\",\"relu\",\"relu\",\"softmax\"])\n",
    "optimizer = torch.optim.Adam(cnn5.parameters(), lr=0.001)\n",
    "train(Xtrain_normal, ytrain, Xval_normal, yval, cnn5, 20, nn.CrossEntropyLoss(),optimizer)\n",
    "result = cnn5.predict(Xval_normal)\n",
    "print(\"Acuuracy rate = \",accuracy_score(yval,result))"
   ]
  },
  {
   "cell_type": "code",
   "execution_count": null,
   "metadata": {},
   "outputs": [
    {
     "name": "stdout",
     "output_type": "stream",
     "text": [
      "Epoch 10/20 - Train Loss: 0.4560 - Val Accuracy: 0.8323\n",
      "Epoch 20/20 - Train Loss: 0.3616 - Val Accuracy: 0.8557\n",
      "Acuuracy rate =  0.8557142857142858\n"
     ]
    }
   ],
   "source": [
    "cnn5 = CNN(4,[128,64,32,10],[\"relu\",\"relu\",\"relu\",\"softmax\"])\n",
    "optimizer = torch.optim.Adam(cnn5.parameters(), lr=0.001)\n",
    "train(Xtrain_standart, ytrain, Xval_standart, yval, cnn5, 20, nn.CrossEntropyLoss(),optimizer)\n",
    "result = cnn5.predict(Xval_standart)\n",
    "print(\"Acuuracy rate = \",accuracy_score(yval,result))"
   ]
  },
  {
   "cell_type": "markdown",
   "metadata": {},
   "source": [
    " ### Data Preprocessing Evaluation and Next Steps\n",
    "\n",
    "In this phase, we evaluated whether data normalization or standardization improves the performance of our convolutional neural network (CNN) models. We used two topologies (`cnn3` and `cnn5`) with both normalized and standardized input data and compared them against raw (unprocessed) data.\n",
    "\n",
    "**Results:**\n",
    "- Across both models, raw input data consistently yielded slightly better or equivalent performance compared to normalized or standardized variants.\n",
    "- Standardization and normalization did not provide any noticeable improvement in accuracy and added additional processing overhead.\n",
    "\n",
    "**Conclusion:**\n",
    "Based on these observations, we will continue with the raw data for subsequent experiments.\n",
    "\n",
    "---\n",
    "\n",
    "### Next Step: Optimizer Evaluation\n",
    "\n",
    "We will now explore the impact of different optimizers on model performance. Given the results, we will use our strongest topology so far: `cnn5` with raw data. This will help us isolate the effect of the optimizer itself without introducing variability from model architecture or data type.\n"
   ]
  },
  {
   "cell_type": "code",
   "execution_count": null,
   "metadata": {},
   "outputs": [
    {
     "name": "stdout",
     "output_type": "stream",
     "text": [
      "Epoch 10/20 - Train Loss: 0.5524 - Val Accuracy: 0.7798\n",
      "Epoch 20/20 - Train Loss: 0.4261 - Val Accuracy: 0.8412\n",
      "Acuuracy rate =  0.8412380952380952\n"
     ]
    }
   ],
   "source": [
    "cnn5 = CNN(4,[128,64,32,10],[\"relu\",\"relu\",\"relu\",\"softmax\"])\n",
    "optimizer = torch.optim.RMSprop(cnn5.parameters(), lr=0.001)\n",
    "train(Xtrain, ytrain, Xval, yval, cnn5, 20, nn.CrossEntropyLoss(),optimizer)\n",
    "result = cnn5.predict(Xval)\n",
    "print(\"Acuuracy rate = \",accuracy_score(yval,result))"
   ]
  },
  {
   "cell_type": "code",
   "execution_count": null,
   "metadata": {},
   "outputs": [
    {
     "name": "stdout",
     "output_type": "stream",
     "text": [
      "Epoch 10/20 - Train Loss: 0.7550 - Val Accuracy: 0.7528\n",
      "Epoch 20/20 - Train Loss: 0.6312 - Val Accuracy: 0.7878\n",
      "Acuuracy rate =  0.7878095238095238\n"
     ]
    }
   ],
   "source": [
    "cnn5 = CNN(4,[128,64,32,10],[\"relu\",\"relu\",\"relu\",\"softmax\"])\n",
    "optimizer = torch.optim.SGD(cnn5.parameters(), lr=0.001)\n",
    "train(Xtrain, ytrain, Xval, yval, cnn5, 20, nn.CrossEntropyLoss(),optimizer)\n",
    "result = cnn5.predict(Xval)\n",
    "print(\"Acuuracy rate = \",accuracy_score(yval,result))"
   ]
  },
  {
   "cell_type": "code",
   "execution_count": null,
   "metadata": {},
   "outputs": [
    {
     "name": "stdout",
     "output_type": "stream",
     "text": [
      "Epoch 10/20 - Train Loss: 1.6851 - Val Accuracy: 0.4386\n",
      "Epoch 20/20 - Train Loss: 1.1712 - Val Accuracy: 0.6161\n",
      "Acuuracy rate =  0.6160952380952381\n"
     ]
    }
   ],
   "source": [
    "cnn5 = CNN(4,[128,64,32,10],[\"relu\",\"relu\",\"relu\",\"softmax\"])\n",
    "optimizer = torch.optim.Adadelta(cnn5.parameters(), lr=0.001)\n",
    "train(Xtrain, ytrain, Xval, yval, cnn5, 20, nn.CrossEntropyLoss(),optimizer)\n",
    "result = cnn5.predict(Xval)\n",
    "print(\"Acuuracy rate = \",accuracy_score(yval,result))"
   ]
  },
  {
   "cell_type": "code",
   "execution_count": null,
   "metadata": {},
   "outputs": [
    {
     "name": "stdout",
     "output_type": "stream",
     "text": [
      "Epoch 10/20 - Train Loss: 0.5950 - Val Accuracy: 0.7904\n",
      "Epoch 20/20 - Train Loss: 0.5038 - Val Accuracy: 0.8061\n",
      "Acuuracy rate =  0.8060952380952381\n"
     ]
    }
   ],
   "source": [
    "cnn5 = CNN(4,[128,64,32,10],[\"relu\",\"relu\",\"relu\",\"softmax\"])\n",
    "optimizer = torch.optim.Adagrad(cnn5.parameters(), lr=0.001)\n",
    "train(Xtrain, ytrain, Xval, yval, cnn5, 20, nn.CrossEntropyLoss(),optimizer)\n",
    "result = cnn5.predict(Xval)\n",
    "print(\"Acuuracy rate = \",accuracy_score(yval,result))"
   ]
  },
  {
   "cell_type": "markdown",
   "metadata": {},
   "source": [
    "### Regularization Experiment Plan for CNN\n",
    "\n",
    "After evaluating multiple optimizers, we found that **Adam** consistently outperformed others (e.g., RMSprop, SGD, Adadelta, Adagrad) for our CNN model (cnn5). Given its stability and high accuracy (~0.86), we will proceed using Adam with the best-performing architecture found so far:  \n",
    "**CNN(4, [128, 64, 32, 10], [\"relu\", \"relu\", \"relu\", \"softmax\"])**\n",
    "\n",
    "The next stage of experimentation is focused on applying regularization techniques to reduce overfitting and possibly improve generalization:\n",
    "\n",
    "We will evaluate the following 5 configurations:\n",
    "\n",
    "1. **L1 Regularization only**  \n",
    "2. **L2 Regularization only**  \n",
    "3. **Dropout only**  \n",
    "4. **L1 + Dropout**  \n",
    "5. **L2 + Dropout**\n",
    "\n",
    "Each of these will be applied with the same CNN architecture and optimizer to ensure a fair comparison. We'll track validation accuracy and loss to identify which regularization strategy offers the best performance.\n",
    "\n",
    "The model will be trained on **raw (unstandardized) input data**, as this provided strong results in earlier stages.\n",
    "   "
   ]
  },
  {
   "cell_type": "code",
   "execution_count": null,
   "metadata": {},
   "outputs": [
    {
     "name": "stdout",
     "output_type": "stream",
     "text": [
      "Epoch 10/20 - Train Loss: 1.0583 - Val Accuracy: 0.8438\n",
      "Epoch 20/20 - Train Loss: 0.7977 - Val Accuracy: 0.8489\n",
      "Acuuracy rate =  0.8488571428571429\n"
     ]
    }
   ],
   "source": [
    "cnn5 = CNN(4,[128,64,32,10],[\"relu\",\"relu\",\"relu\",\"softmax\"])\n",
    "optimizer = torch.optim.Adam(cnn5.parameters(), lr=0.001)\n",
    "train(Xtrain, ytrain, Xval, yval, cnn5, 20, nn.CrossEntropyLoss(),optimizer,reg_type=\"L1\",reg_l=0.001)\n",
    "result = cnn5.predict(Xval)\n",
    "print(\"Acuuracy rate = \",accuracy_score(yval,result))"
   ]
  },
  {
   "cell_type": "code",
   "execution_count": 5,
   "metadata": {},
   "outputs": [
    {
     "name": "stdout",
     "output_type": "stream",
     "text": [
      "Epoch 10/20 - Train Loss: 0.4537 - Val Accuracy: 0.8420\n",
      "Epoch 20/20 - Train Loss: 0.3504 - Val Accuracy: 0.8610\n",
      "Acuuracy rate =  0.8610476190476191\n"
     ]
    }
   ],
   "source": [
    "cnn5 = CNN(4,[128,64,32,10],[\"relu\",\"relu\",\"relu\",\"softmax\"])\n",
    "optimizer = torch.optim.Adam(cnn5.parameters(), lr=0.001)\n",
    "train(Xtrain, ytrain, Xval, yval, cnn5, 20, nn.CrossEntropyLoss(),optimizer,reg_type=\"L2\",reg_l=0.001)\n",
    "result = cnn5.predict(Xval)\n",
    "print(\"Acuuracy rate = \",accuracy_score(yval,result))"
   ]
  },
  {
   "cell_type": "code",
   "execution_count": 6,
   "metadata": {},
   "outputs": [
    {
     "name": "stdout",
     "output_type": "stream",
     "text": [
      "Epoch 10/20 - Train Loss: 0.6278 - Val Accuracy: 0.8272\n",
      "Epoch 20/20 - Train Loss: 0.5086 - Val Accuracy: 0.8572\n",
      "Acuuracy rate =  0.8572380952380952\n"
     ]
    }
   ],
   "source": [
    "dropout_rates = [0.2, 0.3, 0.4, 0.0]\n",
    "cnn5 = CNN(4,[128,64,32,10],[\"relu\",\"relu\",\"relu\",\"softmax\"],dropout_rates)\n",
    "optimizer = torch.optim.Adam(cnn5.parameters(), lr=0.001)\n",
    "train(Xtrain, ytrain, Xval, yval, cnn5, 20, nn.CrossEntropyLoss(),optimizer)\n",
    "result = cnn5.predict(Xval)\n",
    "print(\"Acuuracy rate = \",accuracy_score(yval,result))"
   ]
  },
  {
   "cell_type": "code",
   "execution_count": 7,
   "metadata": {},
   "outputs": [
    {
     "name": "stdout",
     "output_type": "stream",
     "text": [
      "Epoch 10/20 - Train Loss: 1.2579 - Val Accuracy: 0.8130\n",
      "Epoch 20/20 - Train Loss: 0.9573 - Val Accuracy: 0.8359\n",
      "Acuuracy rate =  0.8359047619047619\n"
     ]
    }
   ],
   "source": [
    "dropout_rates = [0.2, 0.3, 0.4, 0.0]\n",
    "cnn5 = CNN(4,[128,64,32,10],[\"relu\",\"relu\",\"relu\",\"softmax\"],dropout_rates)\n",
    "optimizer = torch.optim.Adam(cnn5.parameters(), lr=0.001)\n",
    "train(Xtrain, ytrain, Xval, yval, cnn5, 20, nn.CrossEntropyLoss(),optimizer,reg_type=\"L1\",reg_l=0.001)\n",
    "result = cnn5.predict(Xval)\n",
    "print(\"Acuuracy rate = \",accuracy_score(yval,result))"
   ]
  },
  {
   "cell_type": "code",
   "execution_count": 8,
   "metadata": {},
   "outputs": [
    {
     "name": "stdout",
     "output_type": "stream",
     "text": [
      "Epoch 10/20 - Train Loss: 0.6793 - Val Accuracy: 0.8270\n",
      "Epoch 20/20 - Train Loss: 0.5448 - Val Accuracy: 0.8628\n",
      "Acuuracy rate =  0.8627619047619047\n"
     ]
    }
   ],
   "source": [
    "dropout_rates = [0.2, 0.3, 0.4, 0.0]\n",
    "cnn5 = CNN(4,[128,64,32,10],[\"relu\",\"relu\",\"relu\",\"softmax\"],dropout_rates)\n",
    "optimizer = torch.optim.Adam(cnn5.parameters(), lr=0.001)\n",
    "train(Xtrain, ytrain, Xval, yval, cnn5, 20, nn.CrossEntropyLoss(),optimizer,reg_type=\"L2\",reg_l=0.001)\n",
    "result = cnn5.predict(Xval)\n",
    "print(\"Acuuracy rate = \",accuracy_score(yval,result))"
   ]
  },
  {
   "cell_type": "markdown",
   "metadata": {},
   "source": [
    "### ✅ Final Training of Best CNN Model\n",
    "\n",
    "After a thorough process of testing different CNN topologies, data preprocessing strategies, optimizers, and regularization techniques, we have determined the most effective configuration for this classification task.\n",
    "\n",
    "**Best CNN Configuration:**\n",
    "- **Architecture:** `[128, 64, 32, 10]`\n",
    "- **Activation Functions:** ReLU for hidden layers, Softmax for output\n",
    "- **Input Data:** Raw (no standardization or normalization)\n",
    "- **Optimizer:** Adam (learning rate = 0.001)\n",
    "- **Regularization:**\n",
    "  - Dropout: `[0.2, 0.3, 0.4, 0.0]` per layer\n",
    "  - L2 Regularization (λ = 0.001)\n",
    "\n",
    "This combination yielded the best validation accuracy (~0.863) among all tested options and clearly outperformed the basic feedforward neural networks (MLP).\n",
    "\n",
    "**Next Step:**\n",
    "We will now train this final model configuration for up to 1000 epochs, using early stopping to halt training when performance no longer improves. This gives the network enough training time to reach optimal weights while avoiding overfitting.\n"
   ]
  },
  {
   "cell_type": "code",
   "execution_count": 9,
   "metadata": {},
   "outputs": [
    {
     "name": "stdout",
     "output_type": "stream",
     "text": [
      "Epoch 10/1000 - Train Loss: 0.6220 - Val Accuracy: 0.8415\n",
      "Epoch 20/1000 - Train Loss: 0.5144 - Val Accuracy: 0.8680\n",
      "Epoch 30/1000 - Train Loss: 0.4596 - Val Accuracy: 0.8753\n",
      "Epoch 40/1000 - Train Loss: 0.4264 - Val Accuracy: 0.8816\n",
      "Epoch 50/1000 - Train Loss: 0.4059 - Val Accuracy: 0.8827\n",
      "Epoch 60/1000 - Train Loss: 0.3924 - Val Accuracy: 0.8873\n",
      "Epoch 70/1000 - Train Loss: 0.3793 - Val Accuracy: 0.8883\n",
      "Epoch 80/1000 - Train Loss: 0.3636 - Val Accuracy: 0.8927\n",
      "Early stopping triggered at epoch 88\n",
      "Best validation accuracy: 0.8949\n",
      "Acuuracy rate =  0.8917142857142857\n"
     ]
    }
   ],
   "source": [
    "dropout_rates = [0.2, 0.3, 0.4, 0.0]\n",
    "cnn5 = CNN(4,[128,64,32,10],[\"relu\",\"relu\",\"relu\",\"softmax\"],dropout_rates)\n",
    "optimizer = torch.optim.Adam(cnn5.parameters(), lr=0.001)\n",
    "train(Xtrain, ytrain, Xval, yval, cnn5, 1000, nn.CrossEntropyLoss(),optimizer,reg_type=\"L2\",reg_l=0.001)\n",
    "result = cnn5.predict(Xval)\n",
    "print(\"Acuuracy rate = \",accuracy_score(yval,result))"
   ]
  },
  {
   "cell_type": "code",
   "execution_count": 10,
   "metadata": {},
   "outputs": [
    {
     "name": "stdout",
     "output_type": "stream",
     "text": [
      "Acuuracy rate =  0.8902857142857142\n"
     ]
    }
   ],
   "source": [
    "test_result = cnn5.predict(Xtest)\n",
    "print(\"Acuuracy rate = \",accuracy_score(ytest,test_result))"
   ]
  },
  {
   "cell_type": "code",
   "execution_count": 14,
   "metadata": {},
   "outputs": [],
   "source": [
    "evaluation_data = pd.read_csv(\"evaluate.csv\")\n",
    "evaluation_data = evaluation_data.drop(columns=[\"ID\"])\n",
    "evaluate_prediction = cnn5.predict(evaluation_data)\n",
    "submission = pd.DataFrame({\n",
    "    \"ID\": range(len(evaluate_prediction)),\n",
    "    \"label\": evaluate_prediction\n",
    "})\n",
    "\n",
    "submission.to_csv(\"result.csv\", index=False)"
   ]
  }
 ],
 "metadata": {
  "kernelspec": {
   "display_name": "base",
   "language": "python",
   "name": "python3"
  },
  "language_info": {
   "codemirror_mode": {
    "name": "ipython",
    "version": 3
   },
   "file_extension": ".py",
   "mimetype": "text/x-python",
   "name": "python",
   "nbconvert_exporter": "python",
   "pygments_lexer": "ipython3",
   "version": "3.9.7"
  }
 },
 "nbformat": 4,
 "nbformat_minor": 4
}
